{
 "cells": [
  {
   "cell_type": "markdown",
   "metadata": {
    "colab_type": "text",
    "id": "view-in-github"
   },
   "source": [
    "<a href=\"https://colab.research.google.com/github/lsuhpchelp/lbrnloniworkshop2020/blob/master/day2/sci_comp_with_python.ipynb\" target=\"_parent\"><img src=\"https://colab.research.google.com/assets/colab-badge.svg\" alt=\"Open In Colab\"/></a>"
   ]
  },
  {
   "cell_type": "markdown",
   "metadata": {
    "colab_type": "text",
    "id": "DdlQwl05ibyS"
   },
   "source": [
    "# Scientific Computing with Python\n",
    "## June 02 2020\n",
    "## 3rd LBRN-LONI Scientific Computing Bootcamp"
   ]
  },
  {
   "cell_type": "markdown",
   "metadata": {
    "colab_type": "text",
    "id": "DdlQwl05ibyS"
   },
   "source": [
    "# Outline\n",
    "\n",
    " * Day 1 Basic Python Review\n",
    " * Introducing Python Modules: \n",
    "     - Numpy\n",
    "     - Scipy\n",
    " * Examples:\n",
    "     - Calculate deriving of a function\n",
    "     - Convert RGB image to Grayscale\n",
    "     - Simple regression example\n",
    " * Excercise (will be talked about in the afternoon session)"
   ]
  },
  {
   "cell_type": "markdown",
   "metadata": {
    "colab_type": "text",
    "id": "DdlQwl05ibyS"
   },
   "source": [
    "# Day 1 Basic Python Recap\n",
    "\n",
    " * Python is a general-purpose interpreted, interactive, object-oriented, and high-level programming language.\n",
    " * It was created by Guido van Rossum during 1985-1990. Like Perl, Python source code is also available under the GNU General Public License (GPL)."
   ]
  },
  {
   "cell_type": "markdown",
   "metadata": {
    "colab_type": "text",
    "id": "rniBs6qggO1c"
   },
   "source": [
    "### Demostration of Python Loop"
   ]
  },
  {
   "cell_type": "code",
   "execution_count": 3,
   "metadata": {
    "colab": {
     "base_uri": "https://localhost:8080/",
     "height": 35
    },
    "colab_type": "code",
    "id": "BDxT2c9JgO1d",
    "outputId": "e3a7002a-c08d-46a9-b5fb-5c9d65b70412"
   },
   "outputs": [
    {
     "name": "stdout",
     "output_type": "stream",
     "text": [
      "[0, 1, 2, 3, 4]\n"
     ]
    }
   ],
   "source": [
    "a = list(range(5))\n",
    "print(a)"
   ]
  },
  {
   "cell_type": "code",
   "execution_count": 2,
   "metadata": {
    "colab": {
     "base_uri": "https://localhost:8080/",
     "height": 35
    },
    "colab_type": "code",
    "id": "WX1vO658gO1n",
    "outputId": "691f7a04-acaf-4d57-9651-9526134b166f"
   },
   "outputs": [
    {
     "name": "stdout",
     "output_type": "stream",
     "text": [
      "[5, 6, 7, 8, 9]\n"
     ]
    }
   ],
   "source": [
    "for idx in range(len(a)):\n",
    "    a[idx] += 5\n",
    "print(a)"
   ]
  },
  {
   "cell_type": "markdown",
   "metadata": {
    "colab_type": "text",
    "id": "uxalkqmMgO1r"
   },
   "source": [
    "### Python Tuples\n",
    "- A tuple is a sequence of immutable Python objects. Tuples are sequences, just like lists. \n",
    "- The differences between tuples and lists are, the tuples cannot be changed unlike lists and tuples use parentheses, whereas lists use square brackets."
   ]
  },
  {
   "cell_type": "code",
   "execution_count": 3,
   "metadata": {
    "colab": {
     "base_uri": "https://localhost:8080/",
     "height": 35
    },
    "colab_type": "code",
    "id": "Y_W6J9fhgO1t",
    "outputId": "73eeffd1-3c9b-412f-a5b5-427b5bb523aa"
   },
   "outputs": [
    {
     "name": "stdout",
     "output_type": "stream",
     "text": [
      "('physics', 1997, 'chemistry', 2000)\n"
     ]
    }
   ],
   "source": [
    "tup1 = ('physics', 1997, 'chemistry', 2000); \n",
    "print(tup1)"
   ]
  },
  {
   "cell_type": "code",
   "execution_count": 4,
   "metadata": {
    "colab": {
     "base_uri": "https://localhost:8080/",
     "height": 35
    },
    "colab_type": "code",
    "id": "bVgjTZFhgO1y",
    "outputId": "7e3bebc5-0928-4c32-8e40-1afe8e82de42"
   },
   "outputs": [
    {
     "name": "stdout",
     "output_type": "stream",
     "text": [
      "(1, 2, 3, 4, 5)\n"
     ]
    }
   ],
   "source": [
    "tup2 = (1, 2, 3, 4, 5);\n",
    "print(tup2)"
   ]
  },
  {
   "cell_type": "code",
   "execution_count": 5,
   "metadata": {
    "colab": {
     "base_uri": "https://localhost:8080/",
     "height": 35
    },
    "colab_type": "code",
    "id": "KmIIT7MQgO13",
    "outputId": "9916f11c-047e-45c9-9fa2-8428b6371ed8"
   },
   "outputs": [
    {
     "name": "stdout",
     "output_type": "stream",
     "text": [
      "('a', 'b', 'c', 'd')\n"
     ]
    }
   ],
   "source": [
    "tup3 = \"a\", \"b\", \"c\", \"d\";\n",
    "print(tup3)"
   ]
  },
  {
   "cell_type": "code",
   "execution_count": 6,
   "metadata": {
    "colab": {
     "base_uri": "https://localhost:8080/",
     "height": 35
    },
    "colab_type": "code",
    "id": "z0p5vZEGgO16",
    "outputId": "c6687179-8d49-4537-db5f-f884f597c1a7"
   },
   "outputs": [
    {
     "name": "stdout",
     "output_type": "stream",
     "text": [
      "(3, 5, 7)\n"
     ]
    }
   ],
   "source": [
    "tup4 = 3, 5, 7\n",
    "print(tup4)"
   ]
  },
  {
   "cell_type": "code",
   "execution_count": 7,
   "metadata": {
    "colab": {
     "base_uri": "https://localhost:8080/",
     "height": 35
    },
    "colab_type": "code",
    "id": "Tw-cF5RLgO1-",
    "outputId": "86131f1b-b64b-44b3-ea47-dd900c1ef28a"
   },
   "outputs": [
    {
     "name": "stdout",
     "output_type": "stream",
     "text": [
      "()\n"
     ]
    }
   ],
   "source": [
    "# The empty tuple is written as two parentheses containing nothing\n",
    "tup1 = ();\n",
    "print(tup1)"
   ]
  },
  {
   "cell_type": "code",
   "execution_count": 8,
   "metadata": {
    "colab": {
     "base_uri": "https://localhost:8080/",
     "height": 35
    },
    "colab_type": "code",
    "id": "f-uuRfIpgO2G",
    "outputId": "826f71d8-9aca-4f1a-ed03-c285407dadb9"
   },
   "outputs": [
    {
     "name": "stdout",
     "output_type": "stream",
     "text": [
      "(50,)\n"
     ]
    }
   ],
   "source": [
    "# To write a tuple containing a single value you have to include a comma,\n",
    "tup1 = (50,);\n",
    "print(tup1)"
   ]
  },
  {
   "cell_type": "code",
   "execution_count": 9,
   "metadata": {
    "colab": {
     "base_uri": "https://localhost:8080/",
     "height": 35
    },
    "colab_type": "code",
    "id": "-To5ShBygO2N",
    "outputId": "7c4c06cb-d478-4efa-978d-a1baa74f6a86"
   },
   "outputs": [
    {
     "name": "stdout",
     "output_type": "stream",
     "text": [
      "(50,)\n"
     ]
    }
   ],
   "source": [
    "tup1a = 50,\n",
    "print(tup1a)"
   ]
  },
  {
   "cell_type": "code",
   "execution_count": 10,
   "metadata": {
    "colab": {
     "base_uri": "https://localhost:8080/",
     "height": 35
    },
    "colab_type": "code",
    "id": "1AAhbezfgO2U",
    "outputId": "e4d5270f-3f01-4613-8ae8-0c341acb1e63"
   },
   "outputs": [
    {
     "name": "stdout",
     "output_type": "stream",
     "text": [
      "tup1[0]:  50\n"
     ]
    }
   ],
   "source": [
    "# Accessing Values in Tuples\n",
    "print(\"tup1[0]: \", tup1[0])"
   ]
  },
  {
   "cell_type": "code",
   "execution_count": 13,
   "metadata": {
    "colab": {},
    "colab_type": "code",
    "id": "-e0sR_fBgO2Z"
   },
   "outputs": [
    {
     "ename": "TypeError",
     "evalue": "'tuple' object does not support item assignment",
     "output_type": "error",
     "traceback": [
      "\u001b[0;31m---------------------------------------------------------------------------\u001b[0m",
      "\u001b[0;31mTypeError\u001b[0m                                 Traceback (most recent call last)",
      "\u001b[0;32m<ipython-input-13-58f56a655e7a>\u001b[0m in \u001b[0;36m<module>\u001b[0;34m()\u001b[0m\n\u001b[1;32m      1\u001b[0m \u001b[0;31m#tuples are immutable, they cannot be changed\u001b[0m\u001b[0;34m\u001b[0m\u001b[0;34m\u001b[0m\u001b[0m\n\u001b[0;32m----> 2\u001b[0;31m \u001b[0mtup1\u001b[0m\u001b[0;34m[\u001b[0m\u001b[0;36m0\u001b[0m\u001b[0;34m]\u001b[0m\u001b[0;34m=\u001b[0m\u001b[0;36m5\u001b[0m\u001b[0;34m\u001b[0m\u001b[0m\n\u001b[0m",
      "\u001b[0;31mTypeError\u001b[0m: 'tuple' object does not support item assignment"
     ]
    }
   ],
   "source": [
    "#tuples are immutable, they cannot be changed\n",
    "tup1[0]=5"
   ]
  },
  {
   "cell_type": "code",
   "execution_count": 14,
   "metadata": {
    "colab": {
     "base_uri": "https://localhost:8080/",
     "height": 35
    },
    "colab_type": "code",
    "id": "-iQ4Ev8HgO2d",
    "outputId": "4c02e7ba-6d5b-480b-9d90-58835f0505b8",
    "scrolled": true
   },
   "outputs": [
    {
     "name": "stdout",
     "output_type": "stream",
     "text": [
      "tup2[1:5]:  (2, 3, 4, 5)\n"
     ]
    }
   ],
   "source": [
    "print(\"tup2[1:5]: \", tup2[1:5])"
   ]
  },
  {
   "cell_type": "code",
   "execution_count": 15,
   "metadata": {
    "colab": {
     "base_uri": "https://localhost:8080/",
     "height": 35
    },
    "colab_type": "code",
    "id": "UJrK7VOXgO2h",
    "outputId": "04bacc06-a773-43ea-8338-56eb157c9e0b"
   },
   "outputs": [
    {
     "name": "stdout",
     "output_type": "stream",
     "text": [
      "(50, 1, 2, 3, 4, 5)\n"
     ]
    }
   ],
   "source": [
    "# Updating Tuples, create a new tuple as follows\n",
    "tup3 = tup1 + tup2\n",
    "print(tup3)"
   ]
  },
  {
   "cell_type": "code",
   "execution_count": 17,
   "metadata": {
    "colab": {
     "base_uri": "https://localhost:8080/",
     "height": 35
    },
    "colab_type": "code",
    "id": "j5bH2ZrvgO2m",
    "outputId": "d6ffd8c5-5a81-4d97-cae5-3c4d344d6e0f"
   },
   "outputs": [
    {
     "name": "stdout",
     "output_type": "stream",
     "text": [
      "Deleting tup3 : \n"
     ]
    },
    {
     "ename": "NameError",
     "evalue": "name 'tup3' is not defined",
     "output_type": "error",
     "traceback": [
      "\u001b[0;31m---------------------------------------------------------------------------\u001b[0m",
      "\u001b[0;31mNameError\u001b[0m                                 Traceback (most recent call last)",
      "\u001b[0;32m<ipython-input-17-a3f411e5f181>\u001b[0m in \u001b[0;36m<module>\u001b[0;34m()\u001b[0m\n\u001b[1;32m      1\u001b[0m \u001b[0;31m# delete tuple elements\u001b[0m\u001b[0;34m\u001b[0m\u001b[0;34m\u001b[0m\u001b[0m\n\u001b[1;32m      2\u001b[0m \u001b[0mprint\u001b[0m\u001b[0;34m(\u001b[0m\u001b[0;34m\"Deleting tup3 : \"\u001b[0m\u001b[0;34m)\u001b[0m\u001b[0;34m\u001b[0m\u001b[0m\n\u001b[0;32m----> 3\u001b[0;31m \u001b[0;32mdel\u001b[0m \u001b[0mtup3\u001b[0m\u001b[0;34m;\u001b[0m\u001b[0;34m\u001b[0m\u001b[0m\n\u001b[0m\u001b[1;32m      4\u001b[0m \u001b[0mprint\u001b[0m\u001b[0;34m(\u001b[0m\u001b[0mtup3\u001b[0m\u001b[0;34m)\u001b[0m \u001b[0;31m# this will reture an error\u001b[0m\u001b[0;34m\u001b[0m\u001b[0m\n",
      "\u001b[0;31mNameError\u001b[0m: name 'tup3' is not defined"
     ]
    }
   ],
   "source": [
    "# delete tuple elements\n",
    "print(\"Deleting tup3 : \")\n",
    "del tup3;\n",
    "print(tup3) # this will reture an error"
   ]
  },
  {
   "cell_type": "markdown",
   "metadata": {
    "colab_type": "text",
    "id": "nmJz3GbzgO2p"
   },
   "source": [
    "# Numpy Overview\n",
    "- NumPy (Numeric Python) is the fundamental package for scientific computing in Python.\n",
    "- It is a Python library that provides a multidimensional array object, various derived objects (such as masked arrays and matrices)\n",
    "- An assortment of routines for fast operations on arrays, including mathematical, logical, shape manipulation, sorting, selecting, I/O, discrete Fourier transforms, basic linear algebra, basic statistical operations, random simulation and much more.\n",
    "- In short , NumPy package provides basic routines for manipulating large arrays and matrices of numeric data. "
   ]
  },
  {
   "cell_type": "markdown",
   "metadata": {
    "colab_type": "text",
    "id": "pQKjLrqxgO2q"
   },
   "source": [
    "# Simple array math using np.array.\n",
    "* A numpy array is a grid of values.\n",
    "* All of the elements have the same type.\n",
    "* NumPy array starts its index from 0, end at N-1 (C-style)"
   ]
  },
  {
   "cell_type": "code",
   "execution_count": 1,
   "metadata": {
    "colab": {},
    "colab_type": "code",
    "id": "V1aie9_kgO2r"
   },
   "outputs": [],
   "source": [
    "import numpy as np # an alias for the namespace\n",
    "a = np.array([1,2,3])\n",
    "b = np.array((4,5,6))"
   ]
  },
  {
   "cell_type": "code",
   "execution_count": 17,
   "metadata": {
    "colab": {
     "base_uri": "https://localhost:8080/",
     "height": 35
    },
    "colab_type": "code",
    "id": "EXkhrEOLgO2u",
    "outputId": "7d306e98-3a0b-43ae-c164-d2895bfe7d92"
   },
   "outputs": [
    {
     "name": "stdout",
     "output_type": "stream",
     "text": [
      "[1 2 3]\n",
      "[2 5 6]\n"
     ]
    }
   ],
   "source": [
    "print(a)\n",
    "print(b)"
   ]
  },
  {
   "cell_type": "code",
   "execution_count": 9,
   "metadata": {
    "colab": {
     "base_uri": "https://localhost:8080/",
     "height": 35
    },
    "colab_type": "code",
    "id": "EXkhrEOLgO2u",
    "outputId": "7d306e98-3a0b-43ae-c164-d2895bfe7d92"
   },
   "outputs": [
    {
     "name": "stdout",
     "output_type": "stream",
     "text": [
      "[2 3 4]\n",
      "[ 8 10 12]\n"
     ]
    }
   ],
   "source": [
    "print(a+1)\n",
    "print(b*2)"
   ]
  },
  {
   "cell_type": "code",
   "execution_count": 6,
   "metadata": {
    "colab": {
     "base_uri": "https://localhost:8080/",
     "height": 35
    },
    "colab_type": "code",
    "id": "aVHqCV03gO23",
    "outputId": "7c0caf7f-fc2b-48f0-b299-58e6e5231326"
   },
   "outputs": [
    {
     "name": "stdout",
     "output_type": "stream",
     "text": [
      "[5 7 9]\n"
     ]
    }
   ],
   "source": [
    "print(a+b)"
   ]
  },
  {
   "cell_type": "code",
   "execution_count": 7,
   "metadata": {
    "colab": {
     "base_uri": "https://localhost:8080/",
     "height": 35
    },
    "colab_type": "code",
    "id": "lHcPCc3ygO29",
    "outputId": "85dd7f5c-a567-4ccf-c0a2-63096c5bc1b0"
   },
   "outputs": [
    {
     "name": "stdout",
     "output_type": "stream",
     "text": [
      "[ 4 10 18]\n"
     ]
    }
   ],
   "source": [
    "print(a*b)"
   ]
  },
  {
   "cell_type": "code",
   "execution_count": 8,
   "metadata": {
    "colab": {
     "base_uri": "https://localhost:8080/",
     "height": 35
    },
    "colab_type": "code",
    "id": "w28wlRt1gO3C",
    "outputId": "0e19dd0b-ffd6-4169-8377-7979620f95dc",
    "scrolled": true
   },
   "outputs": [
    {
     "name": "stdout",
     "output_type": "stream",
     "text": [
      "[  1  32 729]\n"
     ]
    }
   ],
   "source": [
    "print(a ** b)"
   ]
  },
  {
   "cell_type": "markdown",
   "metadata": {
    "colab_type": "text",
    "id": "gMXQar19gO3G"
   },
   "source": [
    "* Setting Array Element Values"
   ]
  },
  {
   "cell_type": "code",
   "execution_count": 18,
   "metadata": {
    "colab": {
     "base_uri": "https://localhost:8080/",
     "height": 35
    },
    "colab_type": "code",
    "id": "2LIyxH3dgO3G",
    "outputId": "ffa21284-abf2-40ee-b652-d32d1348213f",
    "scrolled": true
   },
   "outputs": [
    {
     "name": "stdout",
     "output_type": "stream",
     "text": [
      "[11  2  3]\n"
     ]
    }
   ],
   "source": [
    "a[0]=11\n",
    "print(a)"
   ]
  },
  {
   "cell_type": "code",
   "execution_count": 18,
   "metadata": {
    "colab": {
     "base_uri": "https://localhost:8080/",
     "height": 35
    },
    "colab_type": "code",
    "id": "3TUrfRetgO3K",
    "outputId": "c451f165-b24f-48bc-f6b4-aca4d14d1415"
   },
   "outputs": [
    {
     "name": "stdout",
     "output_type": "stream",
     "text": [
      "[0 0 0]\n"
     ]
    }
   ],
   "source": [
    "a.fill(0) # set all values in the array with 0\n",
    "print(a)"
   ]
  },
  {
   "cell_type": "code",
   "execution_count": 20,
   "metadata": {
    "colab": {},
    "colab_type": "code",
    "id": "A7fm17ocgO3O"
   },
   "outputs": [],
   "source": [
    "a[:]=1 # why we need to use [:]?"
   ]
  },
  {
   "cell_type": "code",
   "execution_count": 3,
   "metadata": {
    "colab": {
     "base_uri": "https://localhost:8080/",
     "height": 52
    },
    "colab_type": "code",
    "id": "vHnW8gihgO3R",
    "outputId": "6ae309ae-d6b1-475e-9cab-a13f0d5e1a6e"
   },
   "outputs": [
    {
     "name": "stdout",
     "output_type": "stream",
     "text": [
      "[1.  2.  3.1]\n",
      "float64\n",
      "<class 'numpy.ndarray'>\n"
     ]
    }
   ],
   "source": [
    "print(a)\n",
    "print(a.dtype) # note that a is still int64 type !\n",
    "print(type(a))"
   ]
  },
  {
   "cell_type": "code",
   "execution_count": 22,
   "metadata": {
    "colab": {
     "base_uri": "https://localhost:8080/",
     "height": 35
    },
    "colab_type": "code",
    "id": "a7mz0so8gO3X",
    "outputId": "7efc2470-bf54-40a0-d1a2-a7019c80ff9b"
   },
   "outputs": [
    {
     "name": "stdout",
     "output_type": "stream",
     "text": [
      "[10  1  1]\n"
     ]
    }
   ],
   "source": [
    "a[0]=10.6 # decimal parts are truncated, be careful!\n",
    "print(a)"
   ]
  },
  {
   "cell_type": "code",
   "execution_count": 23,
   "metadata": {
    "colab": {
     "base_uri": "https://localhost:8080/",
     "height": 35
    },
    "colab_type": "code",
    "id": "1w8xnA7EgO3b",
    "outputId": "72af437e-34f3-4c05-9f38-de70f6bffeb7"
   },
   "outputs": [
    {
     "name": "stdout",
     "output_type": "stream",
     "text": [
      "[-3 -3 -3]\n"
     ]
    }
   ],
   "source": [
    "a.fill(-3.7) # fill() will have the same behavior\n",
    "print(a)"
   ]
  },
  {
   "cell_type": "markdown",
   "metadata": {
    "colab_type": "text",
    "id": "lohjScE1gO3g"
   },
   "source": [
    "#### Create floating value arrays"
   ]
  },
  {
   "cell_type": "code",
   "execution_count": 2,
   "metadata": {
    "colab": {
     "base_uri": "https://localhost:8080/",
     "height": 35
    },
    "colab_type": "code",
    "id": "j31EKbhYgO3h",
    "outputId": "482a8000-76fe-4273-c2de-5cd97735cc1e",
    "scrolled": true
   },
   "outputs": [
    {
     "name": "stdout",
     "output_type": "stream",
     "text": [
      "[1.  2.  3.1]\n",
      "float64\n",
      "<class 'numpy.ndarray'>\n"
     ]
    }
   ],
   "source": [
    "a = np.array([1,2,3.1])\n",
    "print(a)\n",
    "print(a.dtype)"
   ]
  },
  {
   "cell_type": "code",
   "execution_count": 25,
   "metadata": {
    "colab": {
     "base_uri": "https://localhost:8080/",
     "height": 35
    },
    "colab_type": "code",
    "id": "yZcoMcUEgO3k",
    "outputId": "139f2a6a-cda4-4bf7-d4b3-fffb5bc49b18",
    "scrolled": true
   },
   "outputs": [
    {
     "name": "stdout",
     "output_type": "stream",
     "text": [
      "[1. 2. 3.]\n"
     ]
    }
   ],
   "source": [
    "a = np.array([1,2,3],dtype=float)\n",
    "print(a)"
   ]
  },
  {
   "cell_type": "code",
   "execution_count": 26,
   "metadata": {
    "colab": {
     "base_uri": "https://localhost:8080/",
     "height": 35
    },
    "colab_type": "code",
    "id": "cnkCv0_fgO3p",
    "outputId": "510ac66d-ff50-4302-b6d6-67cb6b9179d7",
    "scrolled": true
   },
   "outputs": [
    {
     "name": "stdout",
     "output_type": "stream",
     "text": [
      "[1. 2. 3.]\n"
     ]
    }
   ],
   "source": [
    "a = np.array([1,2,3]).astype(float)\n",
    "print(a)"
   ]
  },
  {
   "cell_type": "markdown",
   "metadata": {
    "colab_type": "text",
    "id": "J11afn09gO3t"
   },
   "source": [
    "* #### Numpy Array Properties"
   ]
  },
  {
   "cell_type": "code",
   "execution_count": 43,
   "metadata": {
    "colab": {
     "base_uri": "https://localhost:8080/",
     "height": 52
    },
    "colab_type": "code",
    "id": "_YbsVuI-gO3u",
    "outputId": "45cdc216-fa66-49b5-e483-5ca75af3d839"
   },
   "outputs": [
    {
     "name": "stdout",
     "output_type": "stream",
     "text": [
      "[0 1 2 3]\n"
     ]
    }
   ],
   "source": [
    "a = np.array([0,1,2,3]) # create a from a list\n",
    "print(a)"
   ]
  },
  {
   "cell_type": "code",
   "execution_count": 45,
   "metadata": {
    "colab": {
     "base_uri": "https://localhost:8080/",
     "height": 69
    },
    "colab_type": "code",
    "id": "MkWjAiiygO4F",
    "outputId": "84292678-fc4e-4f32-a1d2-890c708c71a7"
   },
   "outputs": [
    {
     "name": "stdout",
     "output_type": "stream",
     "text": [
      "(4,)\n"
     ]
    }
   ],
   "source": [
    "# shape returns a tuple listing the length of the array\n",
    "print(a.shape) # or np.shape(a)"
   ]
  },
  {
   "cell_type": "code",
   "execution_count": 46,
   "metadata": {
    "colab": {
     "base_uri": "https://localhost:8080/",
     "height": 52
    },
    "colab_type": "code",
    "id": "kdwYTiwngO4K",
    "outputId": "a4cf4a5f-afcf-4331-fc7d-727c7b10385a",
    "scrolled": true
   },
   "outputs": [
    {
     "name": "stdout",
     "output_type": "stream",
     "text": [
      "4\n",
      "1\n"
     ]
    }
   ],
   "source": [
    "print(a.size) # or np.size(a), return the total number of elements\n",
    "# return the number of dimensions of the array\n",
    "print(a.ndim)"
   ]
  },
  {
   "cell_type": "markdown",
   "metadata": {
    "colab_type": "text",
    "id": "aGpCaj6ZgO4N"
   },
   "source": [
    "* #### Numpy Array Creation Functions\n",
    "- Numpy's arange is nearly identical to Python’s `range()`. Creates an array of values in the range [start,stop,step) with the specified step value. Allows non-integer values for start, stop, and step. Default dtype is derived from the start, stop, and step values"
   ]
  },
  {
   "cell_type": "code",
   "execution_count": 47,
   "metadata": {
    "colab": {
     "base_uri": "https://localhost:8080/",
     "height": 35
    },
    "colab_type": "code",
    "id": "w3UfCIHLgO4O",
    "outputId": "ce44e089-2e98-46e7-c968-bd9728e1bae2"
   },
   "outputs": [
    {
     "name": "stdout",
     "output_type": "stream",
     "text": [
      "[0 1 2 3]\n"
     ]
    }
   ],
   "source": [
    "a = np.arange(4)\n",
    "print(a)"
   ]
  },
  {
   "cell_type": "code",
   "execution_count": 51,
   "metadata": {
    "colab": {
     "base_uri": "https://localhost:8080/",
     "height": 35
    },
    "colab_type": "code",
    "id": "w3UfCIHLgO4O",
    "outputId": "ce44e089-2e98-46e7-c968-bd9728e1bae2"
   },
   "outputs": [
    {
     "name": "stdout",
     "output_type": "stream",
     "text": [
      "[0 1 2 3]\n"
     ]
    }
   ],
   "source": [
    "a = np.arange(0,4)\n",
    "print(a)"
   ]
  },
  {
   "cell_type": "code",
   "execution_count": 48,
   "metadata": {
    "colab": {
     "base_uri": "https://localhost:8080/",
     "height": 35
    },
    "colab_type": "code",
    "id": "DJp4GOeggO4B",
    "outputId": "ba710e93-e90c-44e1-ec50-447ce358920e"
   },
   "outputs": [
    {
     "name": "stdout",
     "output_type": "stream",
     "text": [
      "[0. 1. 2. 3.]\n"
     ]
    }
   ],
   "source": [
    "a = np.arange(4,dtype=float)\n",
    "print(a)"
   ]
  },
  {
   "cell_type": "code",
   "execution_count": 49,
   "metadata": {
    "colab": {
     "base_uri": "https://localhost:8080/",
     "height": 35
    },
    "colab_type": "code",
    "id": "hgg-Hj8egO4S",
    "outputId": "720501a8-edb7-4123-839c-ba84ab4bc5f4"
   },
   "outputs": [
    {
     "name": "stdout",
     "output_type": "stream",
     "text": [
      "[1.5 1.8 2.1]\n"
     ]
    }
   ],
   "source": [
    "a = np.arange(1.5,2.4,0.3)\n",
    "print(a)"
   ]
  },
  {
   "cell_type": "code",
   "execution_count": 52,
   "metadata": {
    "colab": {
     "base_uri": "https://localhost:8080/",
     "height": 52
    },
    "colab_type": "code",
    "id": "5q0M64XMgO4V",
    "outputId": "72bf5d47-07c2-4d28-ee89-d694aa03f4ad",
    "scrolled": true
   },
   "outputs": [
    {
     "name": "stdout",
     "output_type": "stream",
     "text": [
      "[0.         0.78539816 1.57079633 2.35619449 3.14159265 3.92699082\n",
      " 4.71238898 5.49778714]\n"
     ]
    }
   ],
   "source": [
    "a = np.arange(0, 2*np.pi, np.pi/4)\n",
    "print(a)"
   ]
  },
  {
   "cell_type": "markdown",
   "metadata": {
    "colab_type": "text",
    "id": "VSkLFP1vgO4k"
   },
   "source": [
    "* #### Useful initial value creation"
   ]
  },
  {
   "cell_type": "code",
   "execution_count": 53,
   "metadata": {
    "colab": {
     "base_uri": "https://localhost:8080/",
     "height": 69
    },
    "colab_type": "code",
    "id": "e-dT1abKgO4Z",
    "outputId": "c78f8965-58d6-4e37-dde3-b1b77bb6e013"
   },
   "outputs": [
    {
     "name": "stdout",
     "output_type": "stream",
     "text": [
      "[[1. 1. 1.]\n",
      " [1. 1. 1.]]\n",
      "float64\n"
     ]
    }
   ],
   "source": [
    "a = np.ones((2,3)) # need to supply tuple as shape of the array!\n",
    "print(a)\n",
    "print(a.dtype)"
   ]
  },
  {
   "cell_type": "code",
   "execution_count": 54,
   "metadata": {
    "colab": {
     "base_uri": "https://localhost:8080/",
     "height": 87
    },
    "colab_type": "code",
    "id": "xnwf3TDvgO4c",
    "outputId": "12c5259c-5814-45f8-a78d-c3aec95b1b8d"
   },
   "outputs": [
    {
     "name": "stdout",
     "output_type": "stream",
     "text": [
      "[[0. 0. 0.]\n",
      " [0. 0. 0.]\n",
      " [0. 0. 0.]]\n",
      "float64\n"
     ]
    }
   ],
   "source": [
    "a = np.zeros((3,3)) # need to supply tuple as shape of the array!\n",
    "print(a)\n",
    "print(a.dtype)"
   ]
  },
  {
   "cell_type": "code",
   "execution_count": 55,
   "metadata": {
    "colab": {
     "base_uri": "https://localhost:8080/",
     "height": 87
    },
    "colab_type": "code",
    "id": "dYwcuTC6gO4l",
    "outputId": "e38b90e4-54f3-414c-80af-6785dfe57f69"
   },
   "outputs": [
    {
     "name": "stdout",
     "output_type": "stream",
     "text": [
      "[[1. 0. 0. 0.]\n",
      " [0. 1. 0. 0.]\n",
      " [0. 0. 1. 0.]\n",
      " [0. 0. 0. 1.]]\n"
     ]
    }
   ],
   "source": [
    "a = np.identity(4)\n",
    "print(a)"
   ]
  },
  {
   "cell_type": "code",
   "execution_count": 56,
   "metadata": {
    "colab": {
     "base_uri": "https://localhost:8080/",
     "height": 104
    },
    "colab_type": "code",
    "id": "XvTlWmiegO4q",
    "outputId": "b0ec0e57-f219-461c-f656-6857c86547e7"
   },
   "outputs": [
    {
     "name": "stdout",
     "output_type": "stream",
     "text": [
      "[[1 0 0 0]\n",
      " [0 1 0 0]\n",
      " [0 0 1 0]\n",
      " [0 0 0 1]]\n",
      "int64\n"
     ]
    }
   ],
   "source": [
    "a = np.eye(4,dtype=int)\n",
    "print(a)\n",
    "print(a.dtype)"
   ]
  },
  {
   "cell_type": "code",
   "execution_count": 57,
   "metadata": {
    "colab": {
     "base_uri": "https://localhost:8080/",
     "height": 69
    },
    "colab_type": "code",
    "id": "W8cTdgUHgO4s",
    "outputId": "93cede4a-0d08-4436-9d31-9572012e5d43"
   },
   "outputs": [
    {
     "name": "stdout",
     "output_type": "stream",
     "text": [
      "[7.74860419e-304 7.74860419e-304]\n",
      "[5. 5.]\n",
      "[4. 4.]\n"
     ]
    }
   ],
   "source": [
    "a = np.empty(2)\n",
    "print(a)\n",
    "a.fill(5.0)\n",
    "print(a)\n",
    "a[:] = 4.0\n",
    "print(a)"
   ]
  },
  {
   "cell_type": "markdown",
   "metadata": {
    "colab_type": "text",
    "id": "C1Tr-DSdgO4w"
   },
   "source": [
    "* #### `numpy.linspace(start, stop, num=50, endpoint=True, retstep=False, dtype=None)`\n",
    "Return evenly spaced numbers over a specified interval."
   ]
  },
  {
   "cell_type": "code",
   "execution_count": 58,
   "metadata": {
    "colab": {
     "base_uri": "https://localhost:8080/",
     "height": 35
    },
    "colab_type": "code",
    "id": "6YZfMKM5gO4y",
    "outputId": "0797650b-1a18-49f3-9dea-86e978002b8f"
   },
   "outputs": [
    {
     "name": "stdout",
     "output_type": "stream",
     "text": [
      "[0.   0.25 0.5  0.75 1.  ]\n"
     ]
    }
   ],
   "source": [
    "a = np.linspace(0,1,5)\n",
    "print(a)"
   ]
  },
  {
   "cell_type": "markdown",
   "metadata": {
    "colab_type": "text",
    "id": "SaKt7UShgO42"
   },
   "source": [
    "* #### `numpy.logspace(start, stop, num=50, endpoint=True, base=10.0, dtype=None)`\n",
    "\n",
    "Return numbers spaced evenly on a log scale.\n",
    "\n",
    "The sequence starts at base ** start (base to the power of start) and ends with base ** stop (see endpoint below)."
   ]
  },
  {
   "cell_type": "code",
   "execution_count": 59,
   "metadata": {
    "colab": {
     "base_uri": "https://localhost:8080/",
     "height": 35
    },
    "colab_type": "code",
    "id": "Ve7NNc1bgO44",
    "outputId": "e28e2231-2d80-47a3-c72e-c6a66e1550b8"
   },
   "outputs": [
    {
     "name": "stdout",
     "output_type": "stream",
     "text": [
      "[ 1.          1.77827941  3.16227766  5.62341325 10.        ]\n"
     ]
    }
   ],
   "source": [
    "#import matplotlib.pyplot as plt\n",
    "a = np.logspace(0,1,5)\n",
    "print(a)\n",
    "#plt.plot(a,'r-s')\n",
    "#plt.plot(np.log(a),'b-s')"
   ]
  },
  {
   "cell_type": "code",
   "execution_count": 60,
   "metadata": {
    "colab": {
     "base_uri": "https://localhost:8080/",
     "height": 35
    },
    "colab_type": "code",
    "id": "Gs4mmAP3gO49",
    "outputId": "e47c8d9f-0897-42ab-ab00-5ebe71cdc33f"
   },
   "outputs": [
    {
     "name": "stdout",
     "output_type": "stream",
     "text": [
      "[4.         5.0396842  6.34960421 8.        ]\n"
     ]
    }
   ],
   "source": [
    "a = np.logspace(2.0, 3.0, num=4, base=2.0)\n",
    "print(a)"
   ]
  },
  {
   "cell_type": "markdown",
   "metadata": {
    "colab_type": "text",
    "id": "mm5LuQ2IgO5A"
   },
   "source": [
    "* #### Array from/to ASCII files\n",
    "use loadtxt\n",
    "\n",
    "`data.txt`<br>\n",
    "  `Index`<br>\n",
    "`Brain Weight`<br>\n",
    "`Body Weight`<br>\n",
    "`#here is the training set`<br>\n",
    "`1 3.385 44.500 abjhk`<br>\n",
    "`2 0.480 33.38 bc_00asdk`<br>\n",
    "`...`<br>\n",
    "`#here is the cross validation set`<br>\n",
    "`6 27.660 115.000 rk`<br>\n",
    "`7 14.830 98.200 fff`<br>\n",
    "`...`<br>\n",
    "`9 4.190 58.000 kij`<br>"
   ]
  },
  {
   "cell_type": "code",
   "execution_count": 5,
   "metadata": {
    "colab": {
     "base_uri": "https://localhost:8080/",
     "height": 676
    },
    "colab_type": "code",
    "id": "C4oJxgbu4WI_",
    "outputId": "b4e533e2-2a32-4921-c4ac-8c7eee4ed419"
   },
   "outputs": [
    {
     "name": "stdout",
     "output_type": "stream",
     "text": [
      "--2020-05-31 22:29:28--  https://raw.githubusercontent.com/lsuhpchelp/lbrnloniworkshop2020/master/day2/data.txt\n",
      "Resolving raw.githubusercontent.com (raw.githubusercontent.com)... 151.101.0.133, 151.101.64.133, 151.101.128.133, ...\n",
      "Connecting to raw.githubusercontent.com (raw.githubusercontent.com)|151.101.0.133|:443... connected.\n",
      "HTTP request sent, awaiting response... 200 OK\n",
      "Length: 630 [text/plain]\n",
      "Saving to: ‘data.txt’\n",
      "\n",
      "data.txt            100%[===================>]     630  --.-KB/s    in 0s      \n",
      "\n",
      "2020-05-31 22:29:28 (28.8 MB/s) - ‘data.txt’ saved [630/630]\n",
      "\n",
      "#  x01.txt\n",
      "#    Academic Press, 1991, page 304,\n",
      "#    ISBN 0-12-656460-4.\n",
      "#    There are 62 rows of data.  The 3 data columns include:\n",
      "#      I,  the index,\n",
      "#      A1, the brain weight;\n",
      "#      B,  the body weight.\n",
      "#    We seek a model of the form:\n",
      "#\n",
      "#      B = A1 * X1.\n",
      "#\n",
      "3 columns\n",
      "62 rows\n",
      "Index\n",
      "Brain Weight\n",
      "Body Weight\n",
      "# here is the training set\n",
      " 1     3.385    44.500 abjhk\n",
      " 2     0.480    33.38  bc_00asdk\n",
      " 3     1.350     8.100 fb\n",
      " 4   465.000   423.000 cer\n",
      " 5    36.330   119.500 rg\n",
      "# here is the cross validation set\n",
      " 6    27.660   115.000 rk\n",
      " 7    14.830    98.200 fff\n",
      " 8     1.040     5.500 zxs\n",
      " 9     4.190    58.000 kij\n"
     ]
    }
   ],
   "source": [
    "# download the file to local virtual machine\n",
    "! if [ ! -f \"data.txt\" ]; then wget 'https://raw.githubusercontent.com/lsuhpchelp/lbrnloniworkshop2020/master/day2/data.txt'; else echo 'file exists'; fi;\n",
    "! cat data.txt"
   ]
  },
  {
   "cell_type": "code",
   "execution_count": 9,
   "metadata": {
    "colab": {
     "base_uri": "https://localhost:8080/",
     "height": 173
    },
    "colab_type": "code",
    "id": "Q9cCgPodgO5B",
    "outputId": "71ea495f-6a87-45ef-8cde-7290fdf4d963"
   },
   "outputs": [
    {
     "name": "stdout",
     "output_type": "stream",
     "text": [
      "[[  1.      3.385  44.5  ]\n",
      " [  2.      0.48   33.38 ]\n",
      " [  3.      1.35    8.1  ]\n",
      " [  4.    465.    423.   ]\n",
      " [  5.     36.33  119.5  ]\n",
      " [  6.     27.66  115.   ]\n",
      " [  7.     14.83   98.2  ]\n",
      " [  8.      1.04    5.5  ]\n",
      " [  9.      4.19   58.   ]]\n"
     ]
    }
   ],
   "source": [
    "# np.loadtxt can directly load a txt from a URL\n",
    "#weburl = 'https://raw.githubusercontent.com/lsuhpchelp/lbrnloniworkshop2020/blob/master/day2/'\n",
    "#txtfile = weburl + 'data.txt'\n",
    "\n",
    "# we will use the file locally on the virtual machine\n",
    "txtfile = 'data.txt'\n",
    "a = np.loadtxt(txtfile,skiprows=16,usecols={0,1,2},dtype=None,comments=\"#\")\n",
    "print(a)"
   ]
  },
  {
   "cell_type": "markdown",
   "metadata": {
    "colab_type": "text",
    "id": "lkLGKSGAgO5E"
   },
   "source": [
    "Using genfromtxt"
   ]
  },
  {
   "cell_type": "code",
   "execution_count": 63,
   "metadata": {
    "colab": {
     "base_uri": "https://localhost:8080/",
     "height": 104
    },
    "colab_type": "code",
    "id": "0L0kk4cAgO5E",
    "outputId": "2455f830-e6c8-4076-d13d-0902d8facfee"
   },
   "outputs": [
    {
     "name": "stdout",
     "output_type": "stream",
     "text": [
      "[(1,   3.385,  44.5 , 'abjhk') (2,   0.48 ,  33.38, 'bc_00asdk')\n",
      " (3,   1.35 ,   8.1 , 'fb') (4, 465.   , 423.  , 'cer')\n",
      " (5,  36.33 , 119.5 , 'rg') (6,  27.66 , 115.  , 'rk')\n",
      " (7,  14.83 ,  98.2 , 'fff') (8,   1.04 ,   5.5 , 'zxs')\n",
      " (9,   4.19 ,  58.  , 'kij')]\n"
     ]
    }
   ],
   "source": [
    "# np.genfromtxt can guess the actual type of your columns by using dtype=None\n",
    "a = np.genfromtxt(txtfile,skip_header=16,dtype=None,encoding='ascii')\n",
    "print(a)"
   ]
  },
  {
   "cell_type": "markdown",
   "metadata": {
    "colab_type": "text",
    "id": "fcvqZtyvgO5G"
   },
   "source": [
    "* #### Reshaping Arrays"
   ]
  },
  {
   "cell_type": "code",
   "execution_count": 64,
   "metadata": {
    "colab": {
     "base_uri": "https://localhost:8080/",
     "height": 52
    },
    "colab_type": "code",
    "id": "ZbX0ZeFJgO5H",
    "outputId": "a6b27281-0aa6-4702-9ffb-aafc824788de"
   },
   "outputs": [
    {
     "name": "stdout",
     "output_type": "stream",
     "text": [
      "[0 1 2 3 4 5]\n",
      "(6,)\n"
     ]
    }
   ],
   "source": [
    "a = np.arange(6)\n",
    "print(a)\n",
    "print(a.shape)"
   ]
  },
  {
   "cell_type": "code",
   "execution_count": 69,
   "metadata": {
    "colab": {
     "base_uri": "https://localhost:8080/",
     "height": 52
    },
    "colab_type": "code",
    "id": "lEkbEGgrgO5O",
    "outputId": "dff26ee2-464a-4e92-f546-72bdedea5de2"
   },
   "outputs": [
    {
     "name": "stdout",
     "output_type": "stream",
     "text": [
      "[[0 1 2]\n",
      " [3 4 5]]\n"
     ]
    }
   ],
   "source": [
    "a.shape = (2,3) # reshape array to 2x3\n",
    "print(a)"
   ]
  },
  {
   "cell_type": "code",
   "execution_count": 70,
   "metadata": {
    "colab": {
     "base_uri": "https://localhost:8080/",
     "height": 69
    },
    "colab_type": "code",
    "id": "LgDfr66kgO5R",
    "outputId": "9ecc5b05-dcac-4b87-e334-2126e335ff22"
   },
   "outputs": [
    {
     "name": "stdout",
     "output_type": "stream",
     "text": [
      "[[0 1]\n",
      " [2 3]\n",
      " [4 5]]\n"
     ]
    }
   ],
   "source": [
    "a = a.reshape(3,2) # reshape array to 3x2\n",
    "print(a)\n",
    "# a.reshape(2,5) # cannot change the number of elements in the array\n",
    "# Traceback (most recent call last):\n",
    "# File \"<stdin>\", line 1, in <module>\n",
    "# ValueError: total size of new array must be unchanged"
   ]
  },
  {
   "cell_type": "code",
   "execution_count": 74,
   "metadata": {
    "colab": {
     "base_uri": "https://localhost:8080/",
     "height": 52
    },
    "colab_type": "code",
    "id": "buIQknvjgO5U",
    "outputId": "a8312f3a-9092-48df-aa67-9ae3623d57a1"
   },
   "outputs": [
    {
     "name": "stdout",
     "output_type": "stream",
     "text": [
      "[[0 1 2]\n",
      " [3 4 5]]\n"
     ]
    }
   ],
   "source": [
    "a = a.reshape(2,-1) # numpy determines the last dimension\n",
    "print(a)"
   ]
  },
  {
   "cell_type": "code",
   "execution_count": 72,
   "metadata": {
    "colab": {
     "base_uri": "https://localhost:8080/",
     "height": 69
    },
    "colab_type": "code",
    "id": "RWgISQL2gO5Y",
    "outputId": "18c4032d-d597-4eec-8b2e-ecb5e09ac4a2",
    "scrolled": true
   },
   "outputs": [
    {
     "name": "stdout",
     "output_type": "stream",
     "text": [
      "[[0 1]\n",
      " [2 3]\n",
      " [4 5]]\n"
     ]
    }
   ],
   "source": [
    "a = a.reshape(-1,2)\n",
    "print(a)"
   ]
  },
  {
   "cell_type": "markdown",
   "metadata": {
    "colab_type": "text",
    "id": "Q1TXsB6agO5c"
   },
   "source": [
    "* #### Flattening Multi-dimensional Arrays"
   ]
  },
  {
   "cell_type": "code",
   "execution_count": 75,
   "metadata": {
    "colab": {
     "base_uri": "https://localhost:8080/",
     "height": 69
    },
    "colab_type": "code",
    "id": "Mo0u5KJcgO5c",
    "outputId": "5d38ae65-3d26-4493-d8ce-26f4f05b911e"
   },
   "outputs": [
    {
     "name": "stdout",
     "output_type": "stream",
     "text": [
      "[[ 0  1  2  3]\n",
      " [ 4  5  6  7]\n",
      " [ 8  9 10 11]]\n"
     ]
    }
   ],
   "source": [
    "a = np.arange(12).reshape(-1,4)\n",
    "print(a)"
   ]
  },
  {
   "cell_type": "code",
   "execution_count": 76,
   "metadata": {
    "colab": {
     "base_uri": "https://localhost:8080/",
     "height": 35
    },
    "colab_type": "code",
    "id": "nbHmY0BlgO5f",
    "outputId": "eecaa2f1-fc70-4e1b-8b92-f7b712c416be"
   },
   "outputs": [
    {
     "name": "stdout",
     "output_type": "stream",
     "text": [
      "[ 0  1  2  3  4  5  6  7  8  9 10 11]\n"
     ]
    }
   ],
   "source": [
    "# a.flatten() converts a multidimensional array into\n",
    "# a 1-D array. The new array is a copy of the original data.\n",
    "b = a.flatten()\n",
    "print(b)"
   ]
  },
  {
   "cell_type": "markdown",
   "metadata": {
    "colab_type": "text",
    "id": "w6thN8yAgO5i"
   },
   "source": [
    "# Numpy is easy and fast!\n",
    "## Rule of thumb: \n",
    "> ### Removing loops using NumPy"
   ]
  },
  {
   "cell_type": "code",
   "execution_count": 77,
   "metadata": {
    "colab": {
     "base_uri": "https://localhost:8080/",
     "height": 52
    },
    "colab_type": "code",
    "id": "MxataCyngO5j",
    "outputId": "b3622991-b3c1-494c-f4de-ec0e5b7a39e4"
   },
   "outputs": [
    {
     "name": "stdout",
     "output_type": "stream",
     "text": [
      "4.96 ms ± 41.1 µs per loop (mean ± std. dev. of 7 runs, 100 loops each)\n",
      "best result using for loop: 0.004875 sec\n"
     ]
    }
   ],
   "source": [
    "# we use the timeit (measure execution time of small code snippets) function \n",
    "a=list(range(100000))\n",
    "result_loop = %timeit -o b = [val+5 for val in a]\n",
    "print(\"best result using for loop: %f sec\" % (result_loop.best,))"
   ]
  },
  {
   "cell_type": "code",
   "execution_count": 78,
   "metadata": {
    "colab": {
     "base_uri": "https://localhost:8080/",
     "height": 69
    },
    "colab_type": "code",
    "id": "oS-NUVbggO5n",
    "outputId": "18a5a118-844e-46f9-e165-88292fda9505"
   },
   "outputs": [
    {
     "name": "stdout",
     "output_type": "stream",
     "text": [
      "60.7 µs ± 262 ns per loop (mean ± std. dev. of 7 runs, 10000 loops each)\n",
      "best result using ufunc: 0.000060 sec\n"
     ]
    }
   ],
   "source": [
    "a=np.array(a)\n",
    "result_ufunc = %timeit -o a+5\n",
    "print(\"best result using ufunc: %f sec\" % (result_ufunc.best,))"
   ]
  },
  {
   "cell_type": "code",
   "execution_count": 79,
   "metadata": {
    "colab": {
     "base_uri": "https://localhost:8080/",
     "height": 35
    },
    "colab_type": "code",
    "id": "yGzmB2uYgO5r",
    "outputId": "34908e5f-c29a-424d-d47b-f35eed1a3e59"
   },
   "outputs": [
    {
     "name": "stdout",
     "output_type": "stream",
     "text": [
      "speedup=80.9 times\n"
     ]
    }
   ],
   "source": [
    "speedup = result_loop.best/result_ufunc.best\n",
    "print(\"speedup=%.1f times\" % (speedup,))"
   ]
  },
  {
   "cell_type": "markdown",
   "metadata": {
    "colab_type": "text",
    "id": "Xa4SSwwggO5x"
   },
   "source": [
    "# Four Tools in Numpy\n",
    "1. Ufunc (Universal Function)\n",
    "1. Aggregation\n",
    "1. Broadcasting\n",
    "1. Slicing, masking and fancy indexing"
   ]
  },
  {
   "cell_type": "markdown",
   "metadata": {
    "colab_type": "text",
    "id": "UFekiWAcgO5y"
   },
   "source": [
    "### Why Numpy is fast? \n",
    "- Avoid type check overhead\n",
    "- Vectorization (simplified)\n",
    " - The process of rewriting a loop so that instead of processing a single element of an array N times, it processes (say) 4 elements of the array simultaneously N/4 times. \n",
    "- Many of the built-in functions are implemented in compiled C code.\n",
    " - They can be much faster than the code on the Python level"
   ]
  },
  {
   "cell_type": "markdown",
   "metadata": {
    "colab_type": "text",
    "id": "S-3nui-ZgO5y"
   },
   "source": [
    "### Ufunc: Many ufuncs available\n",
    "- Arithmetic Operators: `+ - * / // (floor division) % **`\n",
    "- Bitwise Operators: `& | ~ ^ >> <<`\n",
    "- Comparison Oper’s: `< > <= >= == !=`\n",
    "- Trig Family: `np.sin, np.cos, np.tan ...`\n",
    "- Exponential Family: `np.exp, np.log, np.log10 ...`\n",
    "- Special Functions: `scipy.special.*`\n",
    "- . . . and many, many more."
   ]
  },
  {
   "cell_type": "markdown",
   "metadata": {
    "colab_type": "text",
    "id": "eSrdmvYzgO5z"
   },
   "source": [
    "* #### Demostration of Ufunc"
   ]
  },
  {
   "cell_type": "code",
   "execution_count": 80,
   "metadata": {
    "colab": {
     "base_uri": "https://localhost:8080/",
     "height": 173
    },
    "colab_type": "code",
    "id": "kNDGJWq7gO5z",
    "outputId": "a8020d32-bdb8-49cd-c9f3-39fe2e608663"
   },
   "outputs": [
    {
     "name": "stdout",
     "output_type": "stream",
     "text": [
      "[0.         0.06411414 0.12822827 0.19234241 0.25645654 0.32057068\n",
      " 0.38468481 0.44879895 0.51291309 0.57702722 0.64114136 0.70525549\n",
      " 0.76936963 0.83348377 0.8975979  0.96171204 1.02582617 1.08994031\n",
      " 1.15405444 1.21816858 1.28228272 1.34639685 1.41051099 1.47462512\n",
      " 1.53873926 1.60285339 1.66696753 1.73108167 1.7951958  1.85930994\n",
      " 1.92342407 1.98753821 2.05165235 2.11576648 2.17988062 2.24399475\n",
      " 2.30810889 2.37222302 2.43633716 2.5004513  2.56456543 2.62867957\n",
      " 2.6927937  2.75690784 2.82102197 2.88513611 2.94925025 3.01336438\n",
      " 3.07747852 3.14159265]\n"
     ]
    }
   ],
   "source": [
    "x = np.linspace(0,np.pi)\n",
    "print(x)"
   ]
  },
  {
   "cell_type": "code",
   "execution_count": 81,
   "metadata": {
    "colab": {
     "base_uri": "https://localhost:8080/",
     "height": 173
    },
    "colab_type": "code",
    "id": "jyAjdoOTgO52",
    "outputId": "9d967939-59a5-41b1-aafa-ad9e09a1baf6"
   },
   "outputs": [
    {
     "name": "stdout",
     "output_type": "stream",
     "text": [
      "[0.         0.12822827 0.25645654 0.38468481 0.51291309 0.64114136\n",
      " 0.76936963 0.8975979  1.02582617 1.15405444 1.28228272 1.41051099\n",
      " 1.53873926 1.66696753 1.7951958  1.92342407 2.05165235 2.17988062\n",
      " 2.30810889 2.43633716 2.56456543 2.6927937  2.82102197 2.94925025\n",
      " 3.07747852 3.20570679 3.33393506 3.46216333 3.5903916  3.71861988\n",
      " 3.84684815 3.97507642 4.10330469 4.23153296 4.35976123 4.48798951\n",
      " 4.61621778 4.74444605 4.87267432 5.00090259 5.12913086 5.25735913\n",
      " 5.38558741 5.51381568 5.64204395 5.77027222 5.89850049 6.02672876\n",
      " 6.15495704 6.28318531]\n"
     ]
    }
   ],
   "source": [
    "x *= 2\n",
    "print(x)"
   ]
  },
  {
   "cell_type": "code",
   "execution_count": 82,
   "metadata": {
    "colab": {
     "base_uri": "https://localhost:8080/",
     "height": 243
    },
    "colab_type": "code",
    "id": "KmGCJm44gO54",
    "outputId": "89994342-29ac-41ff-a1b7-1c32b8e8eac9"
   },
   "outputs": [
    {
     "name": "stdout",
     "output_type": "stream",
     "text": [
      "[ 0.00000000e+00  1.27877162e-01  2.53654584e-01  3.75267005e-01\n",
      "  4.90717552e-01  5.98110530e-01  6.95682551e-01  7.81831482e-01\n",
      "  8.55142763e-01  9.14412623e-01  9.58667853e-01  9.87181783e-01\n",
      "  9.99486216e-01  9.95379113e-01  9.74927912e-01  9.38468422e-01\n",
      "  8.86599306e-01  8.20172255e-01  7.40277997e-01  6.48228395e-01\n",
      "  5.45534901e-01  4.33883739e-01  3.15108218e-01  1.91158629e-01\n",
      "  6.40702200e-02 -6.40702200e-02 -1.91158629e-01 -3.15108218e-01\n",
      " -4.33883739e-01 -5.45534901e-01 -6.48228395e-01 -7.40277997e-01\n",
      " -8.20172255e-01 -8.86599306e-01 -9.38468422e-01 -9.74927912e-01\n",
      " -9.95379113e-01 -9.99486216e-01 -9.87181783e-01 -9.58667853e-01\n",
      " -9.14412623e-01 -8.55142763e-01 -7.81831482e-01 -6.95682551e-01\n",
      " -5.98110530e-01 -4.90717552e-01 -3.75267005e-01 -2.53654584e-01\n",
      " -1.27877162e-01 -2.44929360e-16]\n"
     ]
    }
   ],
   "source": [
    "y = np.sin(x)\n",
    "print(y)"
   ]
  },
  {
   "cell_type": "code",
   "execution_count": 83,
   "metadata": {
    "colab": {
     "base_uri": "https://localhost:8080/",
     "height": 269
    },
    "colab_type": "code",
    "id": "soJnhqvNgO59",
    "outputId": "47365671-8853-4819-bf8c-10ff1523ff97"
   },
   "outputs": [
    {
     "data": {
      "text/plain": [
       "<matplotlib.figure.Figure at 0x7fe22d95fda0>"
      ]
     },
     "metadata": {},
     "output_type": "display_data"
    }
   ],
   "source": [
    "import matplotlib.pyplot as plt\n",
    "plt.plot(x,y)\n",
    "plt.show()"
   ]
  },
  {
   "cell_type": "markdown",
   "metadata": {
    "colab_type": "text",
    "id": "dsswVdbKgO5_"
   },
   "source": [
    "### Aggregation Functions"
   ]
  },
  {
   "cell_type": "markdown",
   "metadata": {
    "colab_type": "text",
    "id": "S5Z6BX2DgO5_"
   },
   "source": [
    "- Aggregations are functions which summarize the values in an array (e.g. min, max, sum, mean, etc.)\n",
    "- Numpy aggregations are much faster than Python built-in functions\n",
    "\n",
    "- All have the same call style:\n",
    "\n",
    "    `np.min() np.max() np.sum() np.prod()`<br>\n",
    "`np.argsort()`<br>\n",
    "`np.mean() np.std() np.var() np.any()`<br>\n",
    "`np.all() np.median() np.percentile()`<br>\n",
    "`np.argmin() np.argmax() . . .`<br>\n",
    "`np.nanmin() np.nanmax() np.nansum(). . .`<br>\n",
    "\n",
    "<!--\n",
    "<img src=\"figure/np_aggregation.png\", style=\"float: left;\", width=\"300\">\n",
    "-->\n",
    "\n",
    "![myphoto](https://github.com/lsuhpchelp/lbrnloniworkshop2020/raw/master/day2/figure/np_aggregation.png)\n"
   ]
  },
  {
   "cell_type": "code",
   "execution_count": 11,
   "metadata": {
    "colab": {
     "base_uri": "https://localhost:8080/",
     "height": 52
    },
    "colab_type": "code",
    "id": "bFqM_S3MgO6A",
    "outputId": "47212550-6854-49cc-c1b2-a065ee7bf47e"
   },
   "outputs": [
    {
     "name": "stdout",
     "output_type": "stream",
     "text": [
      "[[0 1 2]\n",
      " [3 4 5]]\n"
     ]
    }
   ],
   "source": [
    "# Numpy Aggregation - Array Calculation\n",
    "a=np.arange(6).reshape(2,-1)\n",
    "print(a)"
   ]
  },
  {
   "cell_type": "code",
   "execution_count": 12,
   "metadata": {
    "colab": {
     "base_uri": "https://localhost:8080/",
     "height": 35
    },
    "colab_type": "code",
    "id": "F1NvY_BNgO6E",
    "outputId": "60d48681-b1a6-48fe-f6fa-27d8cfee1e90"
   },
   "outputs": [
    {
     "name": "stdout",
     "output_type": "stream",
     "text": [
      "15\n"
     ]
    }
   ],
   "source": [
    "# by default a.sum() adds up all values\n",
    "print(a.sum())"
   ]
  },
  {
   "cell_type": "code",
   "execution_count": 13,
   "metadata": {
    "colab": {
     "base_uri": "https://localhost:8080/",
     "height": 35
    },
    "colab_type": "code",
    "id": "ymDmxKItgO6H",
    "outputId": "5290e4e3-7889-4eab-e00e-9e96215840a2"
   },
   "outputs": [
    {
     "name": "stdout",
     "output_type": "stream",
     "text": [
      "15\n"
     ]
    }
   ],
   "source": [
    "# same result, functional form\n",
    "print(np.sum(a))"
   ]
  },
  {
   "cell_type": "code",
   "execution_count": 88,
   "metadata": {
    "colab": {
     "base_uri": "https://localhost:8080/",
     "height": 35
    },
    "colab_type": "code",
    "id": "9jtGzXrPgO6L",
    "outputId": "2dcf2b69-e58f-42ca-ebd2-f9f9bc7de42b"
   },
   "outputs": [
    {
     "name": "stdout",
     "output_type": "stream",
     "text": [
      "[3 5 7]\n"
     ]
    }
   ],
   "source": [
    "# sum along different axis\n",
    "print(np.sum(a,axis=0))"
   ]
  },
  {
   "cell_type": "code",
   "execution_count": 93,
   "metadata": {
    "colab": {
     "base_uri": "https://localhost:8080/",
     "height": 35
    },
    "colab_type": "code",
    "id": "w_3lDtS_gO6P",
    "outputId": "6566427a-6414-4c68-fc06-b1074f0ad5a6"
   },
   "outputs": [
    {
     "name": "stdout",
     "output_type": "stream",
     "text": [
      "[ 3 12]\n"
     ]
    }
   ],
   "source": [
    "print(np.sum(a,axis=1))"
   ]
  },
  {
   "cell_type": "code",
   "execution_count": 90,
   "metadata": {
    "colab": {
     "base_uri": "https://localhost:8080/",
     "height": 35
    },
    "colab_type": "code",
    "id": "qL5ytSXCgO6R",
    "outputId": "f009bab7-c8b6-46cb-d762-54c4f81fe980"
   },
   "outputs": [
    {
     "name": "stdout",
     "output_type": "stream",
     "text": [
      "[ 3 12]\n"
     ]
    }
   ],
   "source": [
    "print(np.sum(a,axis=-1))"
   ]
  },
  {
   "cell_type": "code",
   "execution_count": 91,
   "metadata": {
    "colab": {
     "base_uri": "https://localhost:8080/",
     "height": 35
    },
    "colab_type": "code",
    "id": "MYde3jRHgO6U",
    "outputId": "0e267f71-2d1a-44cc-d90d-d818e2d750d9"
   },
   "outputs": [
    {
     "name": "stdout",
     "output_type": "stream",
     "text": [
      "[ 0  4 10]\n"
     ]
    }
   ],
   "source": [
    "# product along different axis\n",
    "print(np.prod(a,axis=0))"
   ]
  },
  {
   "cell_type": "code",
   "execution_count": 94,
   "metadata": {
    "colab": {
     "base_uri": "https://localhost:8080/",
     "height": 35
    },
    "colab_type": "code",
    "id": "RmM4Xw6kgO6W",
    "outputId": "577c6af3-765b-42a7-a069-c653aa4a5086"
   },
   "outputs": [
    {
     "name": "stdout",
     "output_type": "stream",
     "text": [
      "[ 0 60]\n"
     ]
    }
   ],
   "source": [
    "print(a.prod(axis=1))"
   ]
  },
  {
   "cell_type": "code",
   "execution_count": 2,
   "metadata": {
    "colab": {
     "base_uri": "https://localhost:8080/",
     "height": 52
    },
    "colab_type": "code",
    "id": "XqOKiQsagO6Z",
    "outputId": "35f74a3d-5114-4215-f64e-b8099d15c0c9"
   },
   "outputs": [
    {
     "name": "stdout",
     "output_type": "stream",
     "text": [
      "[[0.31   0.0539 0.5019]\n",
      " [0.8762 0.7253 0.4556]]\n"
     ]
    }
   ],
   "source": [
    "# Numpy Aggregation – Statistical Methods\n",
    "np.set_printoptions(precision=4)\n",
    "# generate 2x3 random float array\n",
    "a=np.random.random(6).reshape(2,3)\n",
    "print(a)"
   ]
  },
  {
   "cell_type": "code",
   "execution_count": 3,
   "metadata": {
    "colab": {
     "base_uri": "https://localhost:8080/",
     "height": 35
    },
    "colab_type": "code",
    "id": "y4aIKGt9gO6c",
    "outputId": "6c188ce5-c88c-4330-d8bf-fa3578cd75f4"
   },
   "outputs": [
    {
     "name": "stdout",
     "output_type": "stream",
     "text": [
      "[0.5931 0.3896 0.4787]\n"
     ]
    }
   ],
   "source": [
    "print(a.mean(axis=0))"
   ]
  },
  {
   "cell_type": "code",
   "execution_count": 4,
   "metadata": {
    "colab": {
     "base_uri": "https://localhost:8080/",
     "height": 35
    },
    "colab_type": "code",
    "id": "w3HfJ41-gO6d",
    "outputId": "52789459-cbac-4440-bcdc-2110461b1ab0"
   },
   "outputs": [
    {
     "name": "stdout",
     "output_type": "stream",
     "text": [
      "[0.2886 0.6857]\n"
     ]
    }
   ],
   "source": [
    "print(a.mean(axis=1))"
   ]
  },
  {
   "cell_type": "code",
   "execution_count": 5,
   "metadata": {
    "colab": {
     "base_uri": "https://localhost:8080/",
     "height": 35
    },
    "colab_type": "code",
    "id": "nigK3KtygO6f",
    "outputId": "d971244a-b0f3-4924-e711-c3bb00c2da28"
   },
   "outputs": [
    {
     "name": "stdout",
     "output_type": "stream",
     "text": [
      "0.4871539048777393\n"
     ]
    }
   ],
   "source": [
    "print(a.mean())"
   ]
  },
  {
   "cell_type": "code",
   "execution_count": 6,
   "metadata": {
    "colab": {
     "base_uri": "https://localhost:8080/",
     "height": 35
    },
    "colab_type": "code",
    "id": "1bzIdZqTgO6i",
    "outputId": "8961d4d7-92e5-4468-f703-5b19029c5925"
   },
   "outputs": [
    {
     "name": "stdout",
     "output_type": "stream",
     "text": [
      "0.4871539048777393\n"
     ]
    }
   ],
   "source": [
    "print(np.mean(a))"
   ]
  },
  {
   "cell_type": "code",
   "execution_count": 7,
   "metadata": {
    "colab": {
     "base_uri": "https://localhost:8080/",
     "height": 35
    },
    "colab_type": "code",
    "id": "zNAz-x4YgO6k",
    "outputId": "92a1ca05-0939-487e-a113-c0eb89a7f916"
   },
   "outputs": [
    {
     "name": "stdout",
     "output_type": "stream",
     "text": [
      "[0.3206 0.6156]\n"
     ]
    }
   ],
   "source": [
    "# average can use weights\n",
    "# avg = sum(a * weights) / sum(weights)\n",
    "print(np.average(a,weights=[1,2,3],axis=1))"
   ]
  },
  {
   "cell_type": "code",
   "execution_count": 8,
   "metadata": {
    "colab": {
     "base_uri": "https://localhost:8080/",
     "height": 35
    },
    "colab_type": "code",
    "id": "yxj50CXegO6l",
    "outputId": "6646b3da-485b-4f2d-87b8-ae9067d4cbc7"
   },
   "outputs": [
    {
     "name": "stdout",
     "output_type": "stream",
     "text": [
      "[0.2831 0.3357 0.0231]\n"
     ]
    }
   ],
   "source": [
    "# standard deviation\n",
    "print(a.std(axis=0))"
   ]
  },
  {
   "cell_type": "code",
   "execution_count": 102,
   "metadata": {
    "colab": {
     "base_uri": "https://localhost:8080/",
     "height": 35
    },
    "colab_type": "code",
    "id": "OMWY_EFQgO6m",
    "outputId": "dd72cd70-ad01-442d-9a68-5c8d9f067a50"
   },
   "outputs": [
    {
     "name": "stdout",
     "output_type": "stream",
     "text": [
      "[0.0067 0.0467]\n"
     ]
    }
   ],
   "source": [
    "# variance\n",
    "print(np.var(a, axis=1))"
   ]
  },
  {
   "cell_type": "code",
   "execution_count": 103,
   "metadata": {
    "colab": {
     "base_uri": "https://localhost:8080/",
     "height": 35
    },
    "colab_type": "code",
    "id": "BHvtBzFMgO6o",
    "outputId": "c34b5279-814f-4acc-9097-193e933ab03b"
   },
   "outputs": [
    {
     "name": "stdout",
     "output_type": "stream",
     "text": [
      "0.22375135485110165\n"
     ]
    }
   ],
   "source": [
    "# min/max operation\n",
    "print(a.min())"
   ]
  },
  {
   "cell_type": "code",
   "execution_count": 104,
   "metadata": {
    "colab": {
     "base_uri": "https://localhost:8080/",
     "height": 35
    },
    "colab_type": "code",
    "id": "AvL15KhggO6p",
    "outputId": "879d6f2f-5f9f-4600-b230-3263583242f6"
   },
   "outputs": [
    {
     "name": "stdout",
     "output_type": "stream",
     "text": [
      "0.8358428435523434\n"
     ]
    }
   ],
   "source": [
    "print(np.max(a))"
   ]
  },
  {
   "cell_type": "code",
   "execution_count": 105,
   "metadata": {
    "colab": {
     "base_uri": "https://localhost:8080/",
     "height": 35
    },
    "colab_type": "code",
    "id": "lh83UhlmgO6r",
    "outputId": "99a185d9-a56e-4633-9f48-48c5a2ed5e9d"
   },
   "outputs": [
    {
     "name": "stdout",
     "output_type": "stream",
     "text": [
      "[0 0 1]\n"
     ]
    }
   ],
   "source": [
    "# find index of the minimum\n",
    "print(a.argmin(axis=0))"
   ]
  },
  {
   "cell_type": "code",
   "execution_count": 106,
   "metadata": {
    "colab": {
     "base_uri": "https://localhost:8080/",
     "height": 35
    },
    "colab_type": "code",
    "id": "tAlltljCgO6y",
    "outputId": "2d8fec84-6be5-4715-985d-1e6cf166d6b5"
   },
   "outputs": [
    {
     "name": "stdout",
     "output_type": "stream",
     "text": [
      "[0 1]\n"
     ]
    }
   ],
   "source": [
    "print(np.argmax(a,axis=1))"
   ]
  },
  {
   "cell_type": "code",
   "execution_count": 107,
   "metadata": {
    "colab": {
     "base_uri": "https://localhost:8080/",
     "height": 35
    },
    "colab_type": "code",
    "id": "rOP09U8pgO6z",
    "outputId": "6b41b11e-b949-4bd6-d05c-d2ff01633164"
   },
   "outputs": [
    {
     "name": "stdout",
     "output_type": "stream",
     "text": [
      "1\n"
     ]
    }
   ],
   "source": [
    "# this will return flattened index\n",
    "print(np.argmin(a))"
   ]
  },
  {
   "cell_type": "code",
   "execution_count": 108,
   "metadata": {
    "colab": {
     "base_uri": "https://localhost:8080/",
     "height": 35
    },
    "colab_type": "code",
    "id": "s60pznxlgO60",
    "outputId": "9e3735c2-c339-4365-e282-c198d3feef1e"
   },
   "outputs": [
    {
     "name": "stdout",
     "output_type": "stream",
     "text": [
      "4\n"
     ]
    }
   ],
   "source": [
    "print(a.argmax())"
   ]
  },
  {
   "cell_type": "markdown",
   "metadata": {
    "colab_type": "text",
    "id": "qsbFX3PjgO63"
   },
   "source": [
    "### Array Broadcasting\n",
    "\n",
    "- Broadcasting is a set of rules by which ufuncs operate on arrays of different sizes and/or dimensions.\n",
    "- Broadcasting allows NumPy arrays of different dimensionality to be\n",
    "combined in the same expression.\n",
    "- Arrays with smaller dimension are broadcasted to match the larger arrays, without copying data."
   ]
  },
  {
   "cell_type": "markdown",
   "metadata": {
    "colab_type": "text",
    "id": "V59yttxNgO64"
   },
   "source": [
    "### Broadcasting Rules\n",
    "- In order to broadcast, the size of the trailing axes for both arrays in an operation must either be the same size or one of them must be one. If this condition is not met, a ValueError('frames are not aligned') exception is thrown indicating that the arrays have incompatible shapes. \n",
    "- The size of the result array created by broadcast operations is the maximum size along each dimension from the input arrays.\n",
    "\n",
    "<!--\n",
    "<img src=\"figure/np_broadcast.png\", align=\"left\", width=\"500\"></br>\n",
    "-->\n",
    "\n",
    "![myphoto](https://github.com/lsuhpchelp/lbrnloniworkshop2020/raw/master/day2/figure/np_broadcast_scale.png)\n",
    "\n"
   ]
  },
  {
   "cell_type": "markdown",
   "metadata": {
    "colab_type": "text",
    "id": "5yc0IYLrgO66"
   },
   "source": [
    "\n",
    "\n",
    "<!--\n",
    "<img src=\"figure/np_broadcast_error.png\", align=\"left\", width=\"200\">\n",
    "-->\n",
    "\n",
    "![myphoto](https://github.com/lsuhpchelp/lbrnloniworkshop2020/raw/master/day2/figure/np_broadcast_error.png)"
   ]
  },
  {
   "cell_type": "code",
   "execution_count": 109,
   "metadata": {
    "colab": {
     "base_uri": "https://localhost:8080/",
     "height": 69
    },
    "colab_type": "code",
    "id": "F6taGEWzgO66",
    "outputId": "53debe59-2ecb-43fe-bcde-4bb22c330bc5"
   },
   "outputs": [
    {
     "name": "stdout",
     "output_type": "stream",
     "text": [
      "a= [0 1 2]\n",
      "b= 5\n",
      "a+b= [5 6 7]\n"
     ]
    }
   ],
   "source": [
    "a = np.arange(3)\n",
    "print(\"a=\",a)\n",
    "b = 5\n",
    "print(\"b=\",b)\n",
    "print(\"a+b=\",a+b)"
   ]
  },
  {
   "cell_type": "code",
   "execution_count": 113,
   "metadata": {
    "colab": {
     "base_uri": "https://localhost:8080/",
     "height": 191
    },
    "colab_type": "code",
    "id": "3lJ6-UYMgO69",
    "outputId": "2719bc5c-8c06-498b-c695-957cef4be930"
   },
   "outputs": [
    {
     "name": "stdout",
     "output_type": "stream",
     "text": [
      "a=\n",
      "[[0]\n",
      " [1]\n",
      " [2]]\n",
      "b=\n",
      "5\n",
      "a+b=\n",
      "[[5]\n",
      " [6]\n",
      " [7]]\n"
     ]
    }
   ],
   "source": [
    "a = np.arange(3).reshape(-1,1)\n",
    "print(\"a=\")\n",
    "print(a)\n",
    "b = 5\n",
    "print(\"b=\")\n",
    "print(b)\n",
    "print(\"a+b=\")\n",
    "print(a+b)"
   ]
  },
  {
   "cell_type": "code",
   "execution_count": 114,
   "metadata": {
    "colab": {
     "base_uri": "https://localhost:8080/",
     "height": 191
    },
    "colab_type": "code",
    "id": "yyluxtgcgO6_",
    "outputId": "25538aec-db76-4b2a-f73a-fa0de9098c0c"
   },
   "outputs": [
    {
     "name": "stdout",
     "output_type": "stream",
     "text": [
      "a=\n",
      "[[1. 1. 1.]\n",
      " [1. 1. 1.]\n",
      " [1. 1. 1.]]\n",
      "b=\n",
      "[0 1 2]\n",
      "a+b=\n",
      "[[1. 2. 3.]\n",
      " [1. 2. 3.]\n",
      " [1. 2. 3.]]\n"
     ]
    }
   ],
   "source": [
    "a = np.ones((3,3))\n",
    "print(\"a=\")\n",
    "print(a)\n",
    "b = np.arange(3)\n",
    "print(\"b=\")\n",
    "print(b)\n",
    "print(\"a+b=\")\n",
    "print(a+b)"
   ]
  },
  {
   "cell_type": "code",
   "execution_count": 115,
   "metadata": {
    "colab": {
     "base_uri": "https://localhost:8080/",
     "height": 225
    },
    "colab_type": "code",
    "id": "4CEop87ygO7A",
    "outputId": "e37a9959-c485-42d9-af11-05cf198830b0"
   },
   "outputs": [
    {
     "name": "stdout",
     "output_type": "stream",
     "text": [
      "a=\n",
      "[[1. 1. 1.]\n",
      " [1. 1. 1.]\n",
      " [1. 1. 1.]]\n",
      "b=\n",
      "[[0]\n",
      " [1]\n",
      " [2]]\n",
      "a+b=\n",
      "[[1. 1. 1.]\n",
      " [2. 2. 2.]\n",
      " [3. 3. 3.]]\n"
     ]
    }
   ],
   "source": [
    "a = np.ones((3,3))\n",
    "print(\"a=\")\n",
    "print(a)\n",
    "b = np.arange(3).reshape(-1,1)\n",
    "print(\"b=\")\n",
    "print(b)\n",
    "print(\"a+b=\")\n",
    "print(a+b)"
   ]
  },
  {
   "cell_type": "code",
   "execution_count": 116,
   "metadata": {
    "colab": {
     "base_uri": "https://localhost:8080/",
     "height": 191
    },
    "colab_type": "code",
    "id": "MhnGBy9ogO7C",
    "outputId": "2e3c2455-470b-453c-a7c4-c3eb1550ba91"
   },
   "outputs": [
    {
     "name": "stdout",
     "output_type": "stream",
     "text": [
      "a=\n",
      "[[0]\n",
      " [1]\n",
      " [2]]\n",
      "b=\n",
      "[0 1 2]\n",
      "a+b=\n",
      "[[0 1 2]\n",
      " [1 2 3]\n",
      " [2 3 4]]\n"
     ]
    }
   ],
   "source": [
    "a = np.arange(3).reshape(3,1)\n",
    "print(\"a=\")\n",
    "print(a)\n",
    "b = np.arange(3)\n",
    "print(\"b=\")\n",
    "print(b)\n",
    "print(\"a+b=\")\n",
    "print(a+b)"
   ]
  },
  {
   "cell_type": "code",
   "execution_count": 118,
   "metadata": {
    "colab": {
     "base_uri": "https://localhost:8080/",
     "height": 121
    },
    "colab_type": "code",
    "id": "uUVSvPY8gO7D",
    "outputId": "8f9f272e-e5c5-4179-e2eb-2f8c0c251696"
   },
   "outputs": [
    {
     "name": "stdout",
     "output_type": "stream",
     "text": [
      "a=\n",
      "[[0 1]\n",
      " [2 3]\n",
      " [4 5]]\n",
      "b=\n",
      "[0 1 2]\n"
     ]
    },
    {
     "ename": "ValueError",
     "evalue": "operands could not be broadcast together with shapes (3,2) (3,) ",
     "output_type": "error",
     "traceback": [
      "\u001b[0;31m---------------------------------------------------------------------------\u001b[0m",
      "\u001b[0;31mValueError\u001b[0m                                Traceback (most recent call last)",
      "\u001b[0;32m<ipython-input-118-9729d29409c5>\u001b[0m in \u001b[0;36m<module>\u001b[0;34m()\u001b[0m\n\u001b[1;32m      6\u001b[0m \u001b[0mprint\u001b[0m\u001b[0;34m(\u001b[0m\u001b[0mb\u001b[0m\u001b[0;34m)\u001b[0m\u001b[0;34m\u001b[0m\u001b[0m\n\u001b[1;32m      7\u001b[0m \u001b[0;31m# this will raise an error\u001b[0m\u001b[0;34m\u001b[0m\u001b[0;34m\u001b[0m\u001b[0m\n\u001b[0;32m----> 8\u001b[0;31m \u001b[0mprint\u001b[0m\u001b[0;34m(\u001b[0m\u001b[0ma\u001b[0m \u001b[0;34m+\u001b[0m \u001b[0mb\u001b[0m\u001b[0;34m)\u001b[0m\u001b[0;34m\u001b[0m\u001b[0m\n\u001b[0m",
      "\u001b[0;31mValueError\u001b[0m: operands could not be broadcast together with shapes (3,2) (3,) "
     ]
    }
   ],
   "source": [
    "a=np.arange(6).reshape(3,2)\n",
    "print(\"a=\")\n",
    "print(a)\n",
    "b = np.arange(3)\n",
    "print(\"b=\")\n",
    "print(b)\n",
    "# this will raise an error\n",
    "print(a + b)"
   ]
  },
  {
   "cell_type": "markdown",
   "metadata": {
    "colab_type": "text",
    "id": "wCROdnDBgO7E"
   },
   "source": [
    "### Slicing, Masking and Fancy Indexing\n",
    "\n",
    "- `arr[lower:upper:step]`\n",
    "- Extracts a portion of a sequence by specifying a lower and upper bound. The lower-bound element is included, but the upper-bound element is not included. Mathematically: `[lower, upper)`. The step value specifies the stride between elements"
   ]
  },
  {
   "cell_type": "code",
   "execution_count": 119,
   "metadata": {
    "colab": {},
    "colab_type": "code",
    "id": "BWcycHbcgO7H"
   },
   "outputs": [],
   "source": [
    "# indices: 0 1 2 3 4\n",
    "# negative indices:-5 -4 -3 -2 -1\n",
    "a = np.array([10,11,12,13,14])\n",
    "# The following slicing results are the same"
   ]
  },
  {
   "cell_type": "code",
   "execution_count": 120,
   "metadata": {
    "colab": {
     "base_uri": "https://localhost:8080/"
    },
    "colab_type": "code",
    "id": "1fqloZLOgO7I",
    "outputId": "e3c7f0d6-2f67-420d-a220-aa007929aff1"
   },
   "outputs": [
    {
     "name": "stdout",
     "output_type": "stream",
     "text": [
      "[11 12]\n"
     ]
    }
   ],
   "source": [
    "print(a[1:3])"
   ]
  },
  {
   "cell_type": "code",
   "execution_count": 121,
   "metadata": {
    "colab": {
     "base_uri": "https://localhost:8080/"
    },
    "colab_type": "code",
    "id": "slKQZtMQgO7M",
    "outputId": "75290fe9-8b8a-4313-ccb0-81f4782e0a76"
   },
   "outputs": [
    {
     "name": "stdout",
     "output_type": "stream",
     "text": [
      "[11 12]\n"
     ]
    }
   ],
   "source": [
    "print(a[1:-2])"
   ]
  },
  {
   "cell_type": "code",
   "execution_count": 122,
   "metadata": {
    "colab": {
     "base_uri": "https://localhost:8080/"
    },
    "colab_type": "code",
    "id": "kZbdVRwCgO7Q",
    "outputId": "3d814077-f8dc-47a9-eaa7-44a3ecd9d32b"
   },
   "outputs": [
    {
     "name": "stdout",
     "output_type": "stream",
     "text": [
      "[11 12]\n"
     ]
    }
   ],
   "source": [
    "print(a[-4:3])"
   ]
  },
  {
   "cell_type": "code",
   "execution_count": 123,
   "metadata": {
    "colab": {
     "base_uri": "https://localhost:8080/"
    },
    "colab_type": "code",
    "id": "pjxm8xBpgO7S",
    "outputId": "e5fc4b67-d5d4-4270-d217-b192cd0a4982"
   },
   "outputs": [
    {
     "name": "stdout",
     "output_type": "stream",
     "text": [
      "[10 11 12]\n"
     ]
    }
   ],
   "source": [
    "# Omitting Indices: omitted boundaries are assumed to be the beginning\n",
    "# or end of the list, compare the following results\n",
    "print(a[:3])"
   ]
  },
  {
   "cell_type": "code",
   "execution_count": 124,
   "metadata": {
    "colab": {
     "base_uri": "https://localhost:8080/"
    },
    "colab_type": "code",
    "id": "WMk0BT_RgO7U",
    "outputId": "8124699a-1151-4d16-de9c-0bd1a29fbfd6"
   },
   "outputs": [
    {
     "name": "stdout",
     "output_type": "stream",
     "text": [
      "[13 14]\n"
     ]
    }
   ],
   "source": [
    "print(a[-2:])"
   ]
  },
  {
   "cell_type": "code",
   "execution_count": 125,
   "metadata": {
    "colab": {
     "base_uri": "https://localhost:8080/"
    },
    "colab_type": "code",
    "id": "N2_yvneTgO7X",
    "outputId": "962eec9c-8ee0-40ca-fe10-3a4a0dc52c60"
   },
   "outputs": [
    {
     "name": "stdout",
     "output_type": "stream",
     "text": [
      "[11 12 13 14]\n"
     ]
    }
   ],
   "source": [
    "print(a[1:]) # from 1st element to the last"
   ]
  },
  {
   "cell_type": "code",
   "execution_count": 126,
   "metadata": {
    "colab": {
     "base_uri": "https://localhost:8080/"
    },
    "colab_type": "code",
    "id": "SjxWBYAGgO7Y",
    "outputId": "dbcffa76-8d35-4e91-915e-3a469e479479"
   },
   "outputs": [
    {
     "name": "stdout",
     "output_type": "stream",
     "text": [
      "[10 11 12 13]\n"
     ]
    }
   ],
   "source": [
    "print(a[:-1]) # from 1st to the second to last"
   ]
  },
  {
   "cell_type": "code",
   "execution_count": 127,
   "metadata": {
    "colab": {
     "base_uri": "https://localhost:8080/"
    },
    "colab_type": "code",
    "id": "BPiUsNfsgO7a",
    "outputId": "8ba7af6e-fea2-4167-d0e9-c880ae6c06cd"
   },
   "outputs": [
    {
     "name": "stdout",
     "output_type": "stream",
     "text": [
      "[10 11 12 13 14]\n"
     ]
    }
   ],
   "source": [
    "print(a[:]) # entire array"
   ]
  },
  {
   "cell_type": "code",
   "execution_count": 128,
   "metadata": {
    "colab": {
     "base_uri": "https://localhost:8080/"
    },
    "colab_type": "code",
    "id": "sEuiCIlsgO7b",
    "outputId": "8128b3d3-f010-48c8-9d3d-3c0793ebf5ca"
   },
   "outputs": [
    {
     "name": "stdout",
     "output_type": "stream",
     "text": [
      "[10 12 14]\n"
     ]
    }
   ],
   "source": [
    "print(a[::2]) # from 1st, every other element (even indices)"
   ]
  },
  {
   "cell_type": "code",
   "execution_count": 129,
   "metadata": {
    "colab": {
     "base_uri": "https://localhost:8080/"
    },
    "colab_type": "code",
    "id": "w4lZag3qgO7c",
    "outputId": "e24df4d7-116d-4ccc-a595-c9d63613bbd2"
   },
   "outputs": [
    {
     "name": "stdout",
     "output_type": "stream",
     "text": [
      "[11 13]\n"
     ]
    }
   ],
   "source": [
    "print(a[1::2]) # from 2nd, every other element (odd indices)"
   ]
  },
  {
   "cell_type": "markdown",
   "metadata": {
    "colab_type": "text",
    "id": "HwpH4UJ9gO7g"
   },
   "source": [
    "* #### Multidimensional Arrays"
   ]
  },
  {
   "cell_type": "code",
   "execution_count": 1,
   "metadata": {
    "colab": {
     "base_uri": "https://localhost:8080/"
    },
    "colab_type": "code",
    "id": "fFWloDK3gO7h",
    "outputId": "bf1c2f6e-5f3c-4916-d79f-48ead229fbe0"
   },
   "outputs": [
    {
     "name": "stdout",
     "output_type": "stream",
     "text": [
      "[[ 0.  1.  2.  3.]\n",
      " [10. 11. 12. 13.]]\n"
     ]
    }
   ],
   "source": [
    "# A few 2D operations similar to the 1D operations shown above\n",
    "a = np.array([[ 0, 1, 2, 3],[10,11,12,13]], float)\n",
    "print(a)"
   ]
  },
  {
   "cell_type": "code",
   "execution_count": 2,
   "metadata": {
    "colab": {
     "base_uri": "https://localhost:8080/"
    },
    "colab_type": "code",
    "id": "l57AeQ-MgO7i",
    "outputId": "a99b4bb3-9261-43e8-e301-297998aaea9b"
   },
   "outputs": [
    {
     "name": "stdout",
     "output_type": "stream",
     "text": [
      "(2, 4) 8\n"
     ]
    }
   ],
   "source": [
    "print(a.shape,a.size)"
   ]
  },
  {
   "cell_type": "code",
   "execution_count": 3,
   "metadata": {
    "colab": {
     "base_uri": "https://localhost:8080/"
    },
    "colab_type": "code",
    "id": "6mX-w_BYgO7j",
    "outputId": "c73141d2-bb75-4009-f1a6-e6cad848a1b9"
   },
   "outputs": [
    {
     "name": "stdout",
     "output_type": "stream",
     "text": [
      "2\n"
     ]
    }
   ],
   "source": [
    "print(a.ndim) # number of dimensions"
   ]
  },
  {
   "cell_type": "code",
   "execution_count": 4,
   "metadata": {
    "colab": {
     "base_uri": "https://localhost:8080/"
    },
    "colab_type": "code",
    "id": "6mX-w_BYgO7j",
    "outputId": "c73141d2-bb75-4009-f1a6-e6cad848a1b9"
   },
   "outputs": [
    {
     "name": "stdout",
     "output_type": "stream",
     "text": [
      "[10. 11. 12. 13.]\n"
     ]
    }
   ],
   "source": [
    "print(a[1])"
   ]
  },
  {
   "cell_type": "code",
   "execution_count": 5,
   "metadata": {
    "colab": {
     "base_uri": "https://localhost:8080/"
    },
    "colab_type": "code",
    "id": "MzJMLMywgO7k",
    "outputId": "d0d38a5f-ebca-4ecb-8d2d-6279ca536c68"
   },
   "outputs": [
    {
     "name": "stdout",
     "output_type": "stream",
     "text": [
      "13.0\n"
     ]
    }
   ],
   "source": [
    "print(a[1,3]) # reference a 2D array element"
   ]
  },
  {
   "cell_type": "code",
   "execution_count": 6,
   "metadata": {
    "colab": {},
    "colab_type": "code",
    "id": "mPWZzXYsgO7m"
   },
   "outputs": [],
   "source": [
    "a[1,3] = -1 # set value of an array element"
   ]
  },
  {
   "cell_type": "code",
   "execution_count": 7,
   "metadata": {
    "colab": {
     "base_uri": "https://localhost:8080/"
    },
    "colab_type": "code",
    "id": "7dZfUV2agO7n",
    "outputId": "c3cf8f1a-ddad-4a98-e68f-dd89a3ddc7f8"
   },
   "outputs": [
    {
     "name": "stdout",
     "output_type": "stream",
     "text": [
      "[10. 11. 12. -1.]\n"
     ]
    }
   ],
   "source": [
    "print(a[1]) # address second row using a single index"
   ]
  },
  {
   "cell_type": "code",
   "execution_count": 15,
   "metadata": {
    "colab": {
     "base_uri": "https://localhost:8080/"
    },
    "colab_type": "code",
    "id": "7dZfUV2agO7n",
    "outputId": "c3cf8f1a-ddad-4a98-e68f-dd89a3ddc7f8"
   },
   "outputs": [
    {
     "name": "stdout",
     "output_type": "stream",
     "text": [
      "[[ 1  2  3  4  5]\n",
      " [ 6  7  8  9 10]\n",
      " [11 12 13 14 15]\n",
      " [16 17 18 19 20]\n",
      " [21 22 23 24 25]]\n"
     ]
    }
   ],
   "source": [
    "a = np.arange(1,26)\n",
    "a = a.reshape(5,5) # generate the 2D array\n",
    "print(a)"
   ]
  },
  {
   "cell_type": "code",
   "execution_count": 16,
   "metadata": {
    "colab": {
     "base_uri": "https://localhost:8080/"
    },
    "colab_type": "code",
    "id": "Bo_zuV2EgO7p",
    "outputId": "f2eee7c6-3646-4b59-ea2c-fd1c458b5233"
   },
   "outputs": [
    {
     "name": "stdout",
     "output_type": "stream",
     "text": [
      "[4 5]\n"
     ]
    }
   ],
   "source": [
    "print(a[0,3:5])"
   ]
  },
  {
   "cell_type": "code",
   "execution_count": 17,
   "metadata": {
    "colab": {
     "base_uri": "https://localhost:8080/"
    },
    "colab_type": "code",
    "id": "IHddn7YxgO7v",
    "outputId": "651aadd2-0930-479b-c3d6-a0a91fecb499"
   },
   "outputs": [
    {
     "name": "stdout",
     "output_type": "stream",
     "text": [
      "[4]\n"
     ]
    }
   ],
   "source": [
    "print(a[0,3:4])"
   ]
  },
  {
   "cell_type": "code",
   "execution_count": 18,
   "metadata": {
    "colab": {
     "base_uri": "https://localhost:8080/"
    },
    "colab_type": "code",
    "id": "68hT5XeHgO7y",
    "outputId": "f2544593-7e92-4639-d3f6-170ff4eebd40"
   },
   "outputs": [
    {
     "name": "stdout",
     "output_type": "stream",
     "text": [
      "[[25]]\n"
     ]
    }
   ],
   "source": [
    "print(a[4:,4:])"
   ]
  },
  {
   "cell_type": "code",
   "execution_count": 19,
   "metadata": {
    "colab": {
     "base_uri": "https://localhost:8080/"
    },
    "colab_type": "code",
    "id": "kcoo4uqTgO70",
    "outputId": "e860616d-69c6-465f-c3da-879794a4293b"
   },
   "outputs": [
    {
     "name": "stdout",
     "output_type": "stream",
     "text": [
      "[[19 20]\n",
      " [24 25]]\n"
     ]
    }
   ],
   "source": [
    "print(a[3:,3:])"
   ]
  },
  {
   "cell_type": "code",
   "execution_count": 20,
   "metadata": {
    "colab": {
     "base_uri": "https://localhost:8080/"
    },
    "colab_type": "code",
    "id": "M3QUPi80gO71",
    "outputId": "081b952e-9e74-4077-ea72-8e2893450149"
   },
   "outputs": [
    {
     "name": "stdout",
     "output_type": "stream",
     "text": [
      "[ 3  8 13 18 23]\n"
     ]
    }
   ],
   "source": [
    "print(a[:,2])"
   ]
  },
  {
   "cell_type": "code",
   "execution_count": 21,
   "metadata": {
    "colab": {
     "base_uri": "https://localhost:8080/"
    },
    "colab_type": "code",
    "id": "ENMMZRRQgO72",
    "outputId": "6a15c8c3-d32b-47dd-921b-80dfdad43c52"
   },
   "outputs": [
    {
     "name": "stdout",
     "output_type": "stream",
     "text": [
      "[[11 13 15]\n",
      " [21 23 25]]\n"
     ]
    }
   ],
   "source": [
    "print(a[2::2,::2])"
   ]
  },
  {
   "cell_type": "markdown",
   "metadata": {
    "colab_type": "text",
    "id": "dOJ3VUszgO73"
   },
   "source": [
    "### Slices Are References\n",
    "- Slices are references to memory in the original array\n",
    "- Changing values in a slice also changes the original array !"
   ]
  },
  {
   "cell_type": "code",
   "execution_count": 144,
   "metadata": {
    "colab": {
     "base_uri": "https://localhost:8080/",
     "height": 35
    },
    "colab_type": "code",
    "id": "VKZ5Os7dgO73",
    "outputId": "3370e9e0-5609-472c-8ba5-b025ee9537a5"
   },
   "outputs": [
    {
     "name": "stdout",
     "output_type": "stream",
     "text": [
      "[0 1 2 3 4]\n"
     ]
    }
   ],
   "source": [
    "a = np.arange(5)\n",
    "print(a)"
   ]
  },
  {
   "cell_type": "code",
   "execution_count": 145,
   "metadata": {
    "colab": {
     "base_uri": "https://localhost:8080/",
     "height": 35
    },
    "colab_type": "code",
    "id": "oBpldQJEgO75",
    "outputId": "574faac2-9cd9-4262-bc02-1b44109654e1"
   },
   "outputs": [
    {
     "name": "stdout",
     "output_type": "stream",
     "text": [
      "[2 3]\n"
     ]
    }
   ],
   "source": [
    "b = a[2:4]\n",
    "print(b)"
   ]
  },
  {
   "cell_type": "code",
   "execution_count": 146,
   "metadata": {
    "colab": {
     "base_uri": "https://localhost:8080/",
     "height": 35
    },
    "colab_type": "code",
    "id": "INZqY9gEgO76",
    "outputId": "1d8936dc-4234-4a8c-b897-9843a6e6307b"
   },
   "outputs": [
    {
     "name": "stdout",
     "output_type": "stream",
     "text": [
      "[0 1 7 3 4]\n"
     ]
    }
   ],
   "source": [
    "b[0]=7\n",
    "print(a)"
   ]
  },
  {
   "cell_type": "markdown",
   "metadata": {
    "colab_type": "text",
    "id": "NFTphT1PgO77"
   },
   "source": [
    "### Masking"
   ]
  },
  {
   "cell_type": "code",
   "execution_count": 20,
   "metadata": {
    "colab": {
     "base_uri": "https://localhost:8080/",
     "height": 35
    },
    "colab_type": "code",
    "id": "Zk9OdUTPgO78",
    "outputId": "5a4627ab-ab9f-4a9a-ff6a-690e74dec774"
   },
   "outputs": [
    {
     "name": "stdout",
     "output_type": "stream",
     "text": [
      "[0 1 2 3 4 5 6 7 8 9]\n"
     ]
    }
   ],
   "source": [
    "a = np.arange(10)\n",
    "print(a)"
   ]
  },
  {
   "cell_type": "code",
   "execution_count": 21,
   "metadata": {
    "colab": {
     "base_uri": "https://localhost:8080/",
     "height": 35
    },
    "colab_type": "code",
    "id": "toc0o7rOgO7_",
    "outputId": "ac758894-8e9e-45ce-de7b-a55d833b75d3"
   },
   "outputs": [
    {
     "name": "stdout",
     "output_type": "stream",
     "text": [
      "[ True  True  True False False False False False  True  True]\n"
     ]
    }
   ],
   "source": [
    "# creation of mask using ufunc\n",
    "mask=np.abs(a-5)>2\n",
    "print(mask)"
   ]
  },
  {
   "cell_type": "code",
   "execution_count": 22,
   "metadata": {
    "colab": {
     "base_uri": "https://localhost:8080/",
     "height": 35
    },
    "colab_type": "code",
    "id": "ux9tOyswgO8C",
    "outputId": "387ea739-97f8-4e92-c0eb-2743d353ee2e"
   },
   "outputs": [
    {
     "name": "stdout",
     "output_type": "stream",
     "text": [
      "[0 1 2 8 9]\n"
     ]
    }
   ],
   "source": [
    "print(a[mask])"
   ]
  },
  {
   "cell_type": "code",
   "execution_count": 23,
   "metadata": {
    "colab": {
     "base_uri": "https://localhost:8080/",
     "height": 35
    },
    "colab_type": "code",
    "id": "engr-shJgO8F",
    "outputId": "b58b49d1-6c9b-4d31-d32d-3dd5e47f9105"
   },
   "outputs": [
    {
     "name": "stdout",
     "output_type": "stream",
     "text": [
      "[False  True False  True False]\n",
      "[1 8]\n"
     ]
    }
   ],
   "source": [
    "b=a[mask]\n",
    "# manual creation of mask\n",
    "mask=np.array([0,1,0,1,0],dtype=bool)\n",
    "print(mask)\n",
    "print(b[mask])"
   ]
  },
  {
   "cell_type": "markdown",
   "metadata": {
    "colab_type": "text",
    "id": "vRJUBR-FgO8G"
   },
   "source": [
    "### 2D Masking\n",
    "<!--\n",
    "<img src=\"https://github.com/lsuhpchelp/lbrnloniworkshop2018/raw/master/day2_python/figure/masking_2d.png\", style=\"float: left;\", width=\"250\">\n",
    "-->\n",
    "\n",
    "\n",
    "![masking 2d](https://github.com/lsuhpchelp/lbrnloniworkshop2020/raw/master/day2/figure/masking_2d_scale.png)"
   ]
  },
  {
   "cell_type": "code",
   "execution_count": 151,
   "metadata": {
    "colab": {
     "base_uri": "https://localhost:8080/",
     "height": 104
    },
    "colab_type": "code",
    "id": "xhjGE4q5gO8G",
    "outputId": "b0904389-ddc0-4bbb-ee53-a493765c9345"
   },
   "outputs": [
    {
     "name": "stdout",
     "output_type": "stream",
     "text": [
      "[[10 11 12 13 14]\n",
      " [15 16 17 18 19]\n",
      " [20 21 22 23 24]\n",
      " [25 26 27 28 29]\n",
      " [30 31 32 33 34]]\n"
     ]
    }
   ],
   "source": [
    "a=np.arange(25).reshape(5,5)+10\n",
    "print(a)"
   ]
  },
  {
   "cell_type": "code",
   "execution_count": 152,
   "metadata": {
    "colab": {
     "base_uri": "https://localhost:8080/",
     "height": 69
    },
    "colab_type": "code",
    "id": "flTvRcfGgO8H",
    "outputId": "f288fd84-a9fd-4d36-adab-1148615ee337"
   },
   "outputs": [
    {
     "name": "stdout",
     "output_type": "stream",
     "text": [
      "[[15 16 17 18 19]\n",
      " [20 21 22 23 24]\n",
      " [30 31 32 33 34]]\n"
     ]
    }
   ],
   "source": [
    "mask=np.array([0,1,1,0,1],dtype=bool)\n",
    "print(a[mask]) # on rows, same as a[mask,:]"
   ]
  },
  {
   "cell_type": "code",
   "execution_count": 153,
   "metadata": {
    "colab": {
     "base_uri": "https://localhost:8080/",
     "height": 104
    },
    "colab_type": "code",
    "id": "-xCLHmV7gO8J",
    "outputId": "32cced76-db98-4d6a-ab0d-2c017ab68aed"
   },
   "outputs": [
    {
     "name": "stdout",
     "output_type": "stream",
     "text": [
      "[[11 12 14]\n",
      " [16 17 19]\n",
      " [21 22 24]\n",
      " [26 27 29]\n",
      " [31 32 34]]\n"
     ]
    }
   ],
   "source": [
    "print(a[:,mask]) # on columns"
   ]
  },
  {
   "cell_type": "markdown",
   "metadata": {
    "colab_type": "text",
    "id": "2XmKUIvmgO8M"
   },
   "source": [
    "### Fancy Indexing - 1D\n",
    "- NumPy offers more indexing facilities than regular Python sequences.\n",
    "- In addition to indexing by integers and slices, arrays can be indexed by arrays of integers and arrays of Booleans (as seen before)."
   ]
  },
  {
   "cell_type": "code",
   "execution_count": 154,
   "metadata": {
    "colab": {
     "base_uri": "https://localhost:8080/",
     "height": 52
    },
    "colab_type": "code",
    "id": "nYZBYUvugO8M",
    "outputId": "b6960d32-2215-4054-c463-bf69985d3d34"
   },
   "outputs": [
    {
     "name": "stdout",
     "output_type": "stream",
     "text": [
      "[ 0  1  4  9 16 25 36 49]\n",
      "[ 1  9 25  1]\n"
     ]
    }
   ],
   "source": [
    "a=np.arange(8)**2\n",
    "print(a)\n",
    "# indexing by position\n",
    "i=np.array([1,3,5,1])\n",
    "print(a[i])"
   ]
  },
  {
   "cell_type": "markdown",
   "metadata": {
    "colab_type": "text",
    "id": "7PyqbzrhgO8P"
   },
   "source": [
    "### Fancy Indexing - 2D\n",
    "<!--\n",
    "<img src=\"figure/fancy_indexing_2d.png\", style=\"float: left;\", width=\"200\">\n",
    "-->\n",
    "![masking 2d](https://github.com/lsuhpchelp/lbrnloniworkshop2020/raw/master/day2/figure/fancy_indexing_2d_scale.png)"
   ]
  },
  {
   "cell_type": "code",
   "execution_count": 4,
   "metadata": {
    "colab": {
     "base_uri": "https://localhost:8080/",
     "height": 87
    },
    "colab_type": "code",
    "id": "_3w-6NC0gO8P",
    "outputId": "ef43e903-aed3-4d56-bcf5-1c3bbc199c1d"
   },
   "outputs": [
    {
     "name": "stdout",
     "output_type": "stream",
     "text": [
      "[[  0   1   4   9]\n",
      " [ 16  25  36  49]\n",
      " [ 64  81 100 121]]\n",
      "[  0 100  49]\n"
     ]
    }
   ],
   "source": [
    "b=(np.arange(12)**2).reshape(3,-1)\n",
    "print(b)\n",
    "i=[0,2,1]\n",
    "j=[0,2,3]\n",
    "# indexing 2D array\n",
    "print(b[i,j])"
   ]
  },
  {
   "cell_type": "code",
   "execution_count": 5,
   "metadata": {
    "colab": {
     "base_uri": "https://localhost:8080/",
     "height": 52
    },
    "colab_type": "code",
    "id": "OHyHKfsMgO8R",
    "outputId": "fb03f8ea-b0f5-4358-f9b8-4fb5cc856308"
   },
   "outputs": [
    {
     "name": "stdout",
     "output_type": "stream",
     "text": [
      "[[  0 121]\n",
      " [121  25]]\n"
     ]
    }
   ],
   "source": [
    "# note the shape of the resulting array\n",
    "i=[[0,2],[2,1]]\n",
    "j=[[0,3],[3,1]]\n",
    "# When an array of indices is used,\n",
    "# the result has the same shape as the indices;\n",
    "print(b[i,j])"
   ]
  },
  {
   "cell_type": "markdown",
   "metadata": {
    "colab_type": "text",
    "id": "wv1alMymgO8T"
   },
   "source": [
    "## Example of using masking, and plotting"
   ]
  },
  {
   "cell_type": "code",
   "execution_count": 6,
   "metadata": {
    "colab": {},
    "colab_type": "code",
    "id": "W9gnjAJFgO8U"
   },
   "outputs": [],
   "source": [
    "x = np.linspace(-np.pi, np.pi, 30,endpoint=True)\n",
    "y = np.sin(x)"
   ]
  },
  {
   "cell_type": "code",
   "execution_count": 7,
   "metadata": {
    "colab": {
     "base_uri": "https://localhost:8080/",
     "height": 269
    },
    "colab_type": "code",
    "id": "FBCngNczgO8V",
    "outputId": "de5434ba-eecb-4ea5-e771-dad831e1259d"
   },
   "outputs": [
    {
     "data": {
      "text/plain": [
       "<matplotlib.figure.Figure at 0x7f56483cf780>"
      ]
     },
     "metadata": {},
     "output_type": "display_data"
    }
   ],
   "source": [
    "import matplotlib.pyplot as plt\n",
    "plt.plot(x,y,'b-s')\n",
    "plt.show()"
   ]
  },
  {
   "cell_type": "code",
   "execution_count": 8,
   "metadata": {
    "colab": {
     "base_uri": "https://localhost:8080/",
     "height": 104
    },
    "colab_type": "code",
    "id": "JtBJ728HgO8W",
    "outputId": "9046e468-1286-4e7c-823e-6c2b6f5a0878"
   },
   "outputs": [
    {
     "name": "stdout",
     "output_type": "stream",
     "text": [
      "[False False False False False False False False False False False False\n",
      " False False False  True  True  True  True  True  True  True  True  True\n",
      "  True  True  True  True  True  True]\n",
      "[0.10833078 0.32499234 0.54165391 0.75831547 0.97497703 1.19163859\n",
      " 1.40830016 1.62496172 1.84162328 2.05828484 2.2749464  2.49160797\n",
      " 2.70826953 2.92493109 3.14159265]\n"
     ]
    }
   ],
   "source": [
    "# plot the y>0 part\n",
    "mask = y>0\n",
    "print(mask)\n",
    "print(x[mask])"
   ]
  },
  {
   "cell_type": "code",
   "execution_count": 9,
   "metadata": {
    "colab": {
     "base_uri": "https://localhost:8080/",
     "height": 269
    },
    "colab_type": "code",
    "id": "JcSa6avMgO8Z",
    "outputId": "c4b797df-1d2a-49fe-c2ad-82164a650f56"
   },
   "outputs": [
    {
     "data": {
      "image/png": "[encoded data removed]",
      "text/plain": [
       "<matplotlib.figure.Figure at 0x7f562c03ca58>"
      ]
     },
     "metadata": {},
     "output_type": "display_data"
    }
   ],
   "source": [
    "plt.plot(x,y,'b-s')\n",
    "plt.plot(x[mask],y[mask],'r-o')\n",
    "plt.show()"
   ]
  },
  {
   "cell_type": "code",
   "execution_count": 10,
   "metadata": {
    "colab": {},
    "colab_type": "code",
    "id": "bALAF-2dgO8b"
   },
   "outputs": [],
   "source": [
    "mask1 = (y<0) & (x>-np.pi/2)"
   ]
  },
  {
   "cell_type": "code",
   "execution_count": 11,
   "metadata": {
    "colab": {
     "base_uri": "https://localhost:8080/",
     "height": 269
    },
    "colab_type": "code",
    "id": "827tOLUDgO8f",
    "outputId": "c7a691ae-290e-4739-98a4-93ada06d3b46"
   },
   "outputs": [
    {
     "data": {
      "image/png": "[encoded data removed]",
      "text/plain": [
       "<matplotlib.figure.Figure at 0x7f562313e860>"
      ]
     },
     "metadata": {},
     "output_type": "display_data"
    }
   ],
   "source": [
    "# plot between -pi/2 and pi/2\n",
    "plt.plot(x,y,'b-s')\n",
    "plt.plot(x[mask1],y[mask1],'m-^')\n",
    "plt.show()"
   ]
  },
  {
   "cell_type": "markdown",
   "metadata": {
    "colab_type": "text",
    "id": "dr9IHrvNgO8i"
   },
   "source": [
    "# Examples\n",
    "## 1. Calculate Derivative of a function"
   ]
  },
  {
   "cell_type": "code",
   "execution_count": 12,
   "metadata": {
    "colab": {},
    "colab_type": "code",
    "id": "t49MEscWgO8j"
   },
   "outputs": [],
   "source": [
    "\"\"\"\n",
    "Calculate Derivative\n",
    "--------------------\n",
    "\"\"\"\n",
    "import numpy as np\n",
    "import matplotlib.pyplot as plt\n",
    "\n",
    "# calculate the sin() function on evenly spaced data.\n",
    "x = np.linspace(0,2*np.pi,101)\n",
    "y = np.sin(x)\n",
    "\n",
    "# use slicing to get dy and dx\n",
    "dy=y[1:]-y[:-1]\n",
    "dx=x[1:]-x[:-1]\n",
    "\n",
    "dy_dx = dy/dx\n",
    "cx = 0.5*(x[1:]+x[:-1])"
   ]
  },
  {
   "cell_type": "code",
   "execution_count": 13,
   "metadata": {
    "colab": {
     "base_uri": "https://localhost:8080/",
     "height": 269
    },
    "colab_type": "code",
    "id": "pWOSdg0DgO8o",
    "outputId": "e73ac135-1780-4d84-9b92-bde0bf8bad75"
   },
   "outputs": [
    {
     "data": {
      "image/png": "[encoded data removed]",
      "text/plain": [
       "<matplotlib.figure.Figure at 0x7f56230bc668>"
      ]
     },
     "metadata": {},
     "output_type": "display_data"
    }
   ],
   "source": [
    "# plt.subplot(1,2,1)\n",
    "plt.plot(x,y)\n",
    "plt.plot(cx,dy_dx,'xr')\n",
    "plt.plot(x,np.cos(x),'-g')\n",
    "plt.show()"
   ]
  },
  {
   "cell_type": "markdown",
   "metadata": {
    "colab_type": "text",
    "id": "xkCuC14jgO8q"
   },
   "source": [
    "## 2. Change RGB Image to Grayscale"
   ]
  },
  {
   "cell_type": "code",
   "execution_count": 14,
   "metadata": {
    "colab": {
     "base_uri": "https://localhost:8080/",
     "height": 225
    },
    "colab_type": "code",
    "id": "zpVR4Ce5_-p-",
    "outputId": "849c71d2-9d5e-4dab-e0e8-69441ee6e2a8"
   },
   "outputs": [
    {
     "name": "stdout",
     "output_type": "stream",
     "text": [
      "file exists\n",
      "-rw-r--r-- 1 jyu31 Admins 30K May 24 13:31 cat.jpg\n"
     ]
    }
   ],
   "source": [
    "# download the file to local virtual machine\n",
    "! if [ ! -f \"cat.jpg\" ]; then wget 'https://raw.githubusercontent.com/lsuhpchelp/lbrnloniworkshop2020/master/day2/cat.jpg'; else echo 'file exists'; fi;\n",
    "! ls cat.jpg -lh"
   ]
  },
  {
   "cell_type": "code",
   "execution_count": 15,
   "metadata": {
    "colab": {
     "base_uri": "https://localhost:8080/",
     "height": 884
    },
    "colab_type": "code",
    "id": "U28S_haSgO8q",
    "outputId": "16a75ca4-a2da-486c-ac8e-6e0168e15482"
   },
   "outputs": [
    {
     "name": "stdout",
     "output_type": "stream",
     "text": [
      "[[[132 128 117]\n",
      "  [155 151 139]\n",
      "  [181 175 161]\n",
      "  ...\n",
      "  [ 78  68  43]\n",
      "  [ 76  65  43]\n",
      "  [ 64  53  31]]\n",
      "\n",
      " [[134 130 118]\n",
      "  [152 148 136]\n",
      "  [177 171 157]\n",
      "  ...\n",
      "  [ 75  65  40]\n",
      "  [ 72  61  39]\n",
      "  [ 62  51  29]]\n",
      "\n",
      " [[138 134 122]\n",
      "  [151 145 131]\n",
      "  [174 168 152]\n",
      "  ...\n",
      "  [ 71  61  36]\n",
      "  [ 68  58  33]\n",
      "  [ 59  51  28]]\n",
      "\n",
      " ...\n",
      "\n",
      " [[115 145  75]\n",
      "  [107 137  67]\n",
      "  [106 135  69]\n",
      "  ...\n",
      "  [113 101  79]\n",
      "  [106  94  72]\n",
      "  [103  91  67]]\n",
      "\n",
      " [[107 134  65]\n",
      "  [112 139  72]\n",
      "  [109 138  72]\n",
      "  ...\n",
      "  [112  97  78]\n",
      "  [109  94  73]\n",
      "  [101  89  67]]\n",
      "\n",
      " [[124 151  84]\n",
      "  [116 143  76]\n",
      "  [111 140  74]\n",
      "  ...\n",
      "  [ 91  76  57]\n",
      "  [ 89  74  55]\n",
      "  [ 86  71  50]]]\n",
      "(400, 248, 3)\n"
     ]
    }
   ],
   "source": [
    "import imageio\n",
    "import matplotlib.pyplot as plt\n",
    "\n",
    "catjpgfile = 'cat.jpg'\n",
    "img = imageio.imread(catjpgfile)\n",
    "print(img)\n",
    "print(img.shape)"
   ]
  },
  {
   "cell_type": "code",
   "execution_count": 16,
   "metadata": {
    "colab": {
     "base_uri": "https://localhost:8080/",
     "height": 35
    },
    "colab_type": "code",
    "id": "-nQaGEW9gO8v",
    "outputId": "3a1e0f4f-ff21-4730-c9f7-df9ab60f3685"
   },
   "outputs": [
    {
     "name": "stdout",
     "output_type": "stream",
     "text": [
      "(400, 248)\n"
     ]
    }
   ],
   "source": [
    "img_tinted = np.average(img,weights=[0.299,0.587,0.114],axis=2)\n",
    "print(img_tinted.shape)"
   ]
  },
  {
   "cell_type": "code",
   "execution_count": 17,
   "metadata": {
    "colab": {
     "base_uri": "https://localhost:8080/",
     "height": 269
    },
    "colab_type": "code",
    "id": "lwPAoehGgO8x",
    "outputId": "d95dbaa0-1639-4445-b7dd-d3972ec347df"
   },
   "outputs": [
    {
     "data": {
      "image/png": "[encoded data removed]",
      "text/plain": [
       "<matplotlib.figure.Figure at 0x7f5622c95c18>"
      ]
     },
     "metadata": {},
     "output_type": "display_data"
    }
   ],
   "source": [
    "# Show the original image\n",
    "plt.subplot(1, 2, 1)\n",
    "plt.imshow(img)\n",
    "\n",
    "# Show the tinted image\n",
    "plt.subplot(1, 2, 2)\n",
    "\n",
    "# A slight gotcha with imshow is that it might give strange results\n",
    "# if presented with data that is not uint8. To work around this, we\n",
    "# explicitly cast the image to uint8 before displaying it.\n",
    "#plt.imshow(np.uint8(img_tinted), cmap=plt.get_cmap('gray'))\n",
    "plt.imshow(np.uint8(img_tinted), cmap='gray')\n",
    "#plt.imshow(img_tinted)\n",
    "plt.show()"
   ]
  },
  {
   "cell_type": "markdown",
   "metadata": {
    "colab_type": "text",
    "id": "bf8HKORPgO81"
   },
   "source": [
    "## 3. Scipy Example: Regression"
   ]
  },
  {
   "cell_type": "code",
   "execution_count": 18,
   "metadata": {
    "colab": {},
    "colab_type": "code",
    "id": "Mpkqa5VDgO82"
   },
   "outputs": [],
   "source": [
    "from scipy import stats\n",
    "import numpy as np\n",
    "import matplotlib.pyplot as plt\n",
    "\n",
    "x = np.array([1, 2, 5, 7, 10, 15])\n",
    "y = np.array([2, 6, 7, 9, 14, 19]) \n",
    "slope, intercept, r_value, p_value, std_err = stats.linregress(x,y)"
   ]
  },
  {
   "cell_type": "code",
   "execution_count": 19,
   "metadata": {
    "colab": {
     "base_uri": "https://localhost:8080/",
     "height": 269
    },
    "colab_type": "code",
    "id": "viJcEt39gO84",
    "outputId": "1a502c73-9412-428a-8a19-8a4244e63fc3"
   },
   "outputs": [
    {
     "data": {
      "image/png": "[encoded data removed]",
      "text/plain": [
       "<matplotlib.figure.Figure at 0x7f5622c39e48>"
      ]
     },
     "metadata": {},
     "output_type": "display_data"
    }
   ],
   "source": [
    "plt.plot(x,y,'or')\n",
    "yh = x*slope + intercept\n",
    "plt.plot(x, yh, '-b')\n",
    "plt.show()"
   ]
  },
  {
   "cell_type": "code",
   "execution_count": null,
   "metadata": {
    "colab": {},
    "colab_type": "code",
    "id": "MMhwtCGhgO89"
   },
   "outputs": [],
   "source": []
  }
 ],
 "metadata": {
  "colab": {
   "collapsed_sections": [
    "UFekiWAcgO5y",
    "qsbFX3PjgO63",
    "wCROdnDBgO7E",
    "HwpH4UJ9gO7g"
   ],
   "include_colab_link": true,
   "name": "sci_comp_with_python.ipynb",
   "provenance": [],
   "version": "0.3.2"
  },
  "kernelspec": {
   "display_name": "Python 3",
   "language": "python",
   "name": "python3"
  },
  "language_info": {
   "codemirror_mode": {
    "name": "ipython",
    "version": 3
   },
   "file_extension": ".py",
   "mimetype": "text/x-python",
   "name": "python",
   "nbconvert_exporter": "python",
   "pygments_lexer": "ipython3",
   "version": "3.7.6"
  }
 },
 "nbformat": 4,
 "nbformat_minor": 4
}
